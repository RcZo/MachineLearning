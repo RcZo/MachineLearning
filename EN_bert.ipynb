{
  "nbformat": 4,
  "nbformat_minor": 0,
  "metadata": {
    "colab": {
      "name": "EN_bert.ipynb",
      "provenance": [],
      "collapsed_sections": []
    },
    "kernelspec": {
      "name": "python3",
      "display_name": "Python 3"
    },
    "accelerator": "GPU",
    "widgets": {
      "application/vnd.jupyter.widget-state+json": {
        "750d89e9b8c44fbca41f2bab52f421cb": {
          "model_module": "@jupyter-widgets/controls",
          "model_name": "HBoxModel",
          "state": {
            "_view_name": "HBoxView",
            "_dom_classes": [],
            "_model_name": "HBoxModel",
            "_view_module": "@jupyter-widgets/controls",
            "_model_module_version": "1.5.0",
            "_view_count": null,
            "_view_module_version": "1.5.0",
            "box_style": "",
            "layout": "IPY_MODEL_5984918960a044aab6ad9d2f9a9f6bc9",
            "_model_module": "@jupyter-widgets/controls",
            "children": [
              "IPY_MODEL_5d54a4274b844ba1af36bb0e7640f829",
              "IPY_MODEL_288259f3364e4da38906eddd11d70bdd"
            ]
          }
        },
        "5984918960a044aab6ad9d2f9a9f6bc9": {
          "model_module": "@jupyter-widgets/base",
          "model_name": "LayoutModel",
          "state": {
            "_view_name": "LayoutView",
            "grid_template_rows": null,
            "right": null,
            "justify_content": null,
            "_view_module": "@jupyter-widgets/base",
            "overflow": null,
            "_model_module_version": "1.2.0",
            "_view_count": null,
            "flex_flow": null,
            "width": null,
            "min_width": null,
            "border": null,
            "align_items": null,
            "bottom": null,
            "_model_module": "@jupyter-widgets/base",
            "top": null,
            "grid_column": null,
            "overflow_y": null,
            "overflow_x": null,
            "grid_auto_flow": null,
            "grid_area": null,
            "grid_template_columns": null,
            "flex": null,
            "_model_name": "LayoutModel",
            "justify_items": null,
            "grid_row": null,
            "max_height": null,
            "align_content": null,
            "visibility": null,
            "align_self": null,
            "height": null,
            "min_height": null,
            "padding": null,
            "grid_auto_rows": null,
            "grid_gap": null,
            "max_width": null,
            "order": null,
            "_view_module_version": "1.2.0",
            "grid_template_areas": null,
            "object_position": null,
            "object_fit": null,
            "grid_auto_columns": null,
            "margin": null,
            "display": null,
            "left": null
          }
        },
        "5d54a4274b844ba1af36bb0e7640f829": {
          "model_module": "@jupyter-widgets/controls",
          "model_name": "FloatProgressModel",
          "state": {
            "_view_name": "ProgressView",
            "style": "IPY_MODEL_b0bd426930d74fb69b75c2e7c580c962",
            "_dom_classes": [],
            "description": "Downloading: 100%",
            "_model_name": "FloatProgressModel",
            "bar_style": "success",
            "max": 898823,
            "_view_module": "@jupyter-widgets/controls",
            "_model_module_version": "1.5.0",
            "value": 898823,
            "_view_count": null,
            "_view_module_version": "1.5.0",
            "orientation": "horizontal",
            "min": 0,
            "description_tooltip": null,
            "_model_module": "@jupyter-widgets/controls",
            "layout": "IPY_MODEL_4a94b6e5a08742efb69759262a1482b5"
          }
        },
        "288259f3364e4da38906eddd11d70bdd": {
          "model_module": "@jupyter-widgets/controls",
          "model_name": "HTMLModel",
          "state": {
            "_view_name": "HTMLView",
            "style": "IPY_MODEL_1b1f55d8bab8409d8e0c8569ae55aa6f",
            "_dom_classes": [],
            "description": "",
            "_model_name": "HTMLModel",
            "placeholder": "​",
            "_view_module": "@jupyter-widgets/controls",
            "_model_module_version": "1.5.0",
            "value": " 899k/899k [00:00&lt;00:00, 1.09MB/s]",
            "_view_count": null,
            "_view_module_version": "1.5.0",
            "description_tooltip": null,
            "_model_module": "@jupyter-widgets/controls",
            "layout": "IPY_MODEL_625f0b2b23d14258a37c0af718e7e778"
          }
        },
        "b0bd426930d74fb69b75c2e7c580c962": {
          "model_module": "@jupyter-widgets/controls",
          "model_name": "ProgressStyleModel",
          "state": {
            "_view_name": "StyleView",
            "_model_name": "ProgressStyleModel",
            "description_width": "initial",
            "_view_module": "@jupyter-widgets/base",
            "_model_module_version": "1.5.0",
            "_view_count": null,
            "_view_module_version": "1.2.0",
            "bar_color": null,
            "_model_module": "@jupyter-widgets/controls"
          }
        },
        "4a94b6e5a08742efb69759262a1482b5": {
          "model_module": "@jupyter-widgets/base",
          "model_name": "LayoutModel",
          "state": {
            "_view_name": "LayoutView",
            "grid_template_rows": null,
            "right": null,
            "justify_content": null,
            "_view_module": "@jupyter-widgets/base",
            "overflow": null,
            "_model_module_version": "1.2.0",
            "_view_count": null,
            "flex_flow": null,
            "width": null,
            "min_width": null,
            "border": null,
            "align_items": null,
            "bottom": null,
            "_model_module": "@jupyter-widgets/base",
            "top": null,
            "grid_column": null,
            "overflow_y": null,
            "overflow_x": null,
            "grid_auto_flow": null,
            "grid_area": null,
            "grid_template_columns": null,
            "flex": null,
            "_model_name": "LayoutModel",
            "justify_items": null,
            "grid_row": null,
            "max_height": null,
            "align_content": null,
            "visibility": null,
            "align_self": null,
            "height": null,
            "min_height": null,
            "padding": null,
            "grid_auto_rows": null,
            "grid_gap": null,
            "max_width": null,
            "order": null,
            "_view_module_version": "1.2.0",
            "grid_template_areas": null,
            "object_position": null,
            "object_fit": null,
            "grid_auto_columns": null,
            "margin": null,
            "display": null,
            "left": null
          }
        },
        "1b1f55d8bab8409d8e0c8569ae55aa6f": {
          "model_module": "@jupyter-widgets/controls",
          "model_name": "DescriptionStyleModel",
          "state": {
            "_view_name": "StyleView",
            "_model_name": "DescriptionStyleModel",
            "description_width": "",
            "_view_module": "@jupyter-widgets/base",
            "_model_module_version": "1.5.0",
            "_view_count": null,
            "_view_module_version": "1.2.0",
            "_model_module": "@jupyter-widgets/controls"
          }
        },
        "625f0b2b23d14258a37c0af718e7e778": {
          "model_module": "@jupyter-widgets/base",
          "model_name": "LayoutModel",
          "state": {
            "_view_name": "LayoutView",
            "grid_template_rows": null,
            "right": null,
            "justify_content": null,
            "_view_module": "@jupyter-widgets/base",
            "overflow": null,
            "_model_module_version": "1.2.0",
            "_view_count": null,
            "flex_flow": null,
            "width": null,
            "min_width": null,
            "border": null,
            "align_items": null,
            "bottom": null,
            "_model_module": "@jupyter-widgets/base",
            "top": null,
            "grid_column": null,
            "overflow_y": null,
            "overflow_x": null,
            "grid_auto_flow": null,
            "grid_area": null,
            "grid_template_columns": null,
            "flex": null,
            "_model_name": "LayoutModel",
            "justify_items": null,
            "grid_row": null,
            "max_height": null,
            "align_content": null,
            "visibility": null,
            "align_self": null,
            "height": null,
            "min_height": null,
            "padding": null,
            "grid_auto_rows": null,
            "grid_gap": null,
            "max_width": null,
            "order": null,
            "_view_module_version": "1.2.0",
            "grid_template_areas": null,
            "object_position": null,
            "object_fit": null,
            "grid_auto_columns": null,
            "margin": null,
            "display": null,
            "left": null
          }
        },
        "60ed54ef3b114df4a21f7ab913b2ca3a": {
          "model_module": "@jupyter-widgets/controls",
          "model_name": "HBoxModel",
          "state": {
            "_view_name": "HBoxView",
            "_dom_classes": [],
            "_model_name": "HBoxModel",
            "_view_module": "@jupyter-widgets/controls",
            "_model_module_version": "1.5.0",
            "_view_count": null,
            "_view_module_version": "1.5.0",
            "box_style": "",
            "layout": "IPY_MODEL_6fcbb3fcb8c84a67b07f927653555f3c",
            "_model_module": "@jupyter-widgets/controls",
            "children": [
              "IPY_MODEL_b0733da65e4b405ab09df32ac2a27574",
              "IPY_MODEL_69929765e6c24dfcb1e9970307705293"
            ]
          }
        },
        "6fcbb3fcb8c84a67b07f927653555f3c": {
          "model_module": "@jupyter-widgets/base",
          "model_name": "LayoutModel",
          "state": {
            "_view_name": "LayoutView",
            "grid_template_rows": null,
            "right": null,
            "justify_content": null,
            "_view_module": "@jupyter-widgets/base",
            "overflow": null,
            "_model_module_version": "1.2.0",
            "_view_count": null,
            "flex_flow": null,
            "width": null,
            "min_width": null,
            "border": null,
            "align_items": null,
            "bottom": null,
            "_model_module": "@jupyter-widgets/base",
            "top": null,
            "grid_column": null,
            "overflow_y": null,
            "overflow_x": null,
            "grid_auto_flow": null,
            "grid_area": null,
            "grid_template_columns": null,
            "flex": null,
            "_model_name": "LayoutModel",
            "justify_items": null,
            "grid_row": null,
            "max_height": null,
            "align_content": null,
            "visibility": null,
            "align_self": null,
            "height": null,
            "min_height": null,
            "padding": null,
            "grid_auto_rows": null,
            "grid_gap": null,
            "max_width": null,
            "order": null,
            "_view_module_version": "1.2.0",
            "grid_template_areas": null,
            "object_position": null,
            "object_fit": null,
            "grid_auto_columns": null,
            "margin": null,
            "display": null,
            "left": null
          }
        },
        "b0733da65e4b405ab09df32ac2a27574": {
          "model_module": "@jupyter-widgets/controls",
          "model_name": "FloatProgressModel",
          "state": {
            "_view_name": "ProgressView",
            "style": "IPY_MODEL_92fb2e124e7c40f087bf9627f380442c",
            "_dom_classes": [],
            "description": "Downloading: 100%",
            "_model_name": "FloatProgressModel",
            "bar_style": "success",
            "max": 456318,
            "_view_module": "@jupyter-widgets/controls",
            "_model_module_version": "1.5.0",
            "value": 456318,
            "_view_count": null,
            "_view_module_version": "1.5.0",
            "orientation": "horizontal",
            "min": 0,
            "description_tooltip": null,
            "_model_module": "@jupyter-widgets/controls",
            "layout": "IPY_MODEL_3c0d837e8c4248c182fddf799ab85de2"
          }
        },
        "69929765e6c24dfcb1e9970307705293": {
          "model_module": "@jupyter-widgets/controls",
          "model_name": "HTMLModel",
          "state": {
            "_view_name": "HTMLView",
            "style": "IPY_MODEL_b422d2c0c2d242c588d57f827ec8dfd0",
            "_dom_classes": [],
            "description": "",
            "_model_name": "HTMLModel",
            "placeholder": "​",
            "_view_module": "@jupyter-widgets/controls",
            "_model_module_version": "1.5.0",
            "value": " 456k/456k [00:00&lt;00:00, 1.27MB/s]",
            "_view_count": null,
            "_view_module_version": "1.5.0",
            "description_tooltip": null,
            "_model_module": "@jupyter-widgets/controls",
            "layout": "IPY_MODEL_92d07324d01043718f0bae344b7ad880"
          }
        },
        "92fb2e124e7c40f087bf9627f380442c": {
          "model_module": "@jupyter-widgets/controls",
          "model_name": "ProgressStyleModel",
          "state": {
            "_view_name": "StyleView",
            "_model_name": "ProgressStyleModel",
            "description_width": "initial",
            "_view_module": "@jupyter-widgets/base",
            "_model_module_version": "1.5.0",
            "_view_count": null,
            "_view_module_version": "1.2.0",
            "bar_color": null,
            "_model_module": "@jupyter-widgets/controls"
          }
        },
        "3c0d837e8c4248c182fddf799ab85de2": {
          "model_module": "@jupyter-widgets/base",
          "model_name": "LayoutModel",
          "state": {
            "_view_name": "LayoutView",
            "grid_template_rows": null,
            "right": null,
            "justify_content": null,
            "_view_module": "@jupyter-widgets/base",
            "overflow": null,
            "_model_module_version": "1.2.0",
            "_view_count": null,
            "flex_flow": null,
            "width": null,
            "min_width": null,
            "border": null,
            "align_items": null,
            "bottom": null,
            "_model_module": "@jupyter-widgets/base",
            "top": null,
            "grid_column": null,
            "overflow_y": null,
            "overflow_x": null,
            "grid_auto_flow": null,
            "grid_area": null,
            "grid_template_columns": null,
            "flex": null,
            "_model_name": "LayoutModel",
            "justify_items": null,
            "grid_row": null,
            "max_height": null,
            "align_content": null,
            "visibility": null,
            "align_self": null,
            "height": null,
            "min_height": null,
            "padding": null,
            "grid_auto_rows": null,
            "grid_gap": null,
            "max_width": null,
            "order": null,
            "_view_module_version": "1.2.0",
            "grid_template_areas": null,
            "object_position": null,
            "object_fit": null,
            "grid_auto_columns": null,
            "margin": null,
            "display": null,
            "left": null
          }
        },
        "b422d2c0c2d242c588d57f827ec8dfd0": {
          "model_module": "@jupyter-widgets/controls",
          "model_name": "DescriptionStyleModel",
          "state": {
            "_view_name": "StyleView",
            "_model_name": "DescriptionStyleModel",
            "description_width": "",
            "_view_module": "@jupyter-widgets/base",
            "_model_module_version": "1.5.0",
            "_view_count": null,
            "_view_module_version": "1.2.0",
            "_model_module": "@jupyter-widgets/controls"
          }
        },
        "92d07324d01043718f0bae344b7ad880": {
          "model_module": "@jupyter-widgets/base",
          "model_name": "LayoutModel",
          "state": {
            "_view_name": "LayoutView",
            "grid_template_rows": null,
            "right": null,
            "justify_content": null,
            "_view_module": "@jupyter-widgets/base",
            "overflow": null,
            "_model_module_version": "1.2.0",
            "_view_count": null,
            "flex_flow": null,
            "width": null,
            "min_width": null,
            "border": null,
            "align_items": null,
            "bottom": null,
            "_model_module": "@jupyter-widgets/base",
            "top": null,
            "grid_column": null,
            "overflow_y": null,
            "overflow_x": null,
            "grid_auto_flow": null,
            "grid_area": null,
            "grid_template_columns": null,
            "flex": null,
            "_model_name": "LayoutModel",
            "justify_items": null,
            "grid_row": null,
            "max_height": null,
            "align_content": null,
            "visibility": null,
            "align_self": null,
            "height": null,
            "min_height": null,
            "padding": null,
            "grid_auto_rows": null,
            "grid_gap": null,
            "max_width": null,
            "order": null,
            "_view_module_version": "1.2.0",
            "grid_template_areas": null,
            "object_position": null,
            "object_fit": null,
            "grid_auto_columns": null,
            "margin": null,
            "display": null,
            "left": null
          }
        }
      }
    }
  },
  "cells": [
    {
      "cell_type": "code",
      "metadata": {
        "id": "2gPI5nHac5bP"
      },
      "source": [
        "import tensorflow as tf"
      ],
      "execution_count": null,
      "outputs": []
    },
    {
      "cell_type": "code",
      "metadata": {
        "id": "3DudWTpddK7t",
        "colab": {
          "base_uri": "https://localhost:8080/",
          "height": 35
        },
        "outputId": "2bf77833-8657-48b2-d250-f0543e356a7b"
      },
      "source": [
        "tf.__version__"
      ],
      "execution_count": null,
      "outputs": [
        {
          "output_type": "execute_result",
          "data": {
            "application/vnd.google.colaboratory.intrinsic+json": {
              "type": "string"
            },
            "text/plain": [
              "'2.4.0'"
            ]
          },
          "metadata": {
            "tags": []
          },
          "execution_count": 2
        }
      ]
    },
    {
      "cell_type": "code",
      "metadata": {
        "colab": {
          "base_uri": "https://localhost:8080/"
        },
        "id": "viDjLXvbfiKl",
        "outputId": "2160c44d-aadc-48c7-ca9d-ee2c6718641b"
      },
      "source": [
        "!pip install transformers"
      ],
      "execution_count": null,
      "outputs": [
        {
          "output_type": "stream",
          "text": [
            "Collecting transformers\n",
            "\u001b[?25l  Downloading https://files.pythonhosted.org/packages/50/0c/7d5950fcd80b029be0a8891727ba21e0cd27692c407c51261c3c921f6da3/transformers-4.1.1-py3-none-any.whl (1.5MB)\n",
            "\u001b[K     |████████████████████████████████| 1.5MB 7.8MB/s \n",
            "\u001b[?25hRequirement already satisfied: dataclasses; python_version < \"3.7\" in /usr/local/lib/python3.6/dist-packages (from transformers) (0.8)\n",
            "Collecting sacremoses\n",
            "\u001b[?25l  Downloading https://files.pythonhosted.org/packages/7d/34/09d19aff26edcc8eb2a01bed8e98f13a1537005d31e95233fd48216eed10/sacremoses-0.0.43.tar.gz (883kB)\n",
            "\u001b[K     |████████████████████████████████| 890kB 42.6MB/s \n",
            "\u001b[?25hRequirement already satisfied: tqdm>=4.27 in /usr/local/lib/python3.6/dist-packages (from transformers) (4.41.1)\n",
            "Requirement already satisfied: requests in /usr/local/lib/python3.6/dist-packages (from transformers) (2.23.0)\n",
            "Collecting tokenizers==0.9.4\n",
            "\u001b[?25l  Downloading https://files.pythonhosted.org/packages/0f/1c/e789a8b12e28be5bc1ce2156cf87cb522b379be9cadc7ad8091a4cc107c4/tokenizers-0.9.4-cp36-cp36m-manylinux2010_x86_64.whl (2.9MB)\n",
            "\u001b[K     |████████████████████████████████| 2.9MB 24.5MB/s \n",
            "\u001b[?25hRequirement already satisfied: regex!=2019.12.17 in /usr/local/lib/python3.6/dist-packages (from transformers) (2019.12.20)\n",
            "Requirement already satisfied: numpy in /usr/local/lib/python3.6/dist-packages (from transformers) (1.19.5)\n",
            "Requirement already satisfied: packaging in /usr/local/lib/python3.6/dist-packages (from transformers) (20.8)\n",
            "Requirement already satisfied: filelock in /usr/local/lib/python3.6/dist-packages (from transformers) (3.0.12)\n",
            "Requirement already satisfied: six in /usr/local/lib/python3.6/dist-packages (from sacremoses->transformers) (1.15.0)\n",
            "Requirement already satisfied: click in /usr/local/lib/python3.6/dist-packages (from sacremoses->transformers) (7.1.2)\n",
            "Requirement already satisfied: joblib in /usr/local/lib/python3.6/dist-packages (from sacremoses->transformers) (1.0.0)\n",
            "Requirement already satisfied: certifi>=2017.4.17 in /usr/local/lib/python3.6/dist-packages (from requests->transformers) (2020.12.5)\n",
            "Requirement already satisfied: urllib3!=1.25.0,!=1.25.1,<1.26,>=1.21.1 in /usr/local/lib/python3.6/dist-packages (from requests->transformers) (1.24.3)\n",
            "Requirement already satisfied: idna<3,>=2.5 in /usr/local/lib/python3.6/dist-packages (from requests->transformers) (2.10)\n",
            "Requirement already satisfied: chardet<4,>=3.0.2 in /usr/local/lib/python3.6/dist-packages (from requests->transformers) (3.0.4)\n",
            "Requirement already satisfied: pyparsing>=2.0.2 in /usr/local/lib/python3.6/dist-packages (from packaging->transformers) (2.4.7)\n",
            "Building wheels for collected packages: sacremoses\n",
            "  Building wheel for sacremoses (setup.py) ... \u001b[?25l\u001b[?25hdone\n",
            "  Created wheel for sacremoses: filename=sacremoses-0.0.43-cp36-none-any.whl size=893261 sha256=781df3ec837126ebf3ddb0c0b4fefd11af7a89cf5830f7dd6c9765eccc04d8e6\n",
            "  Stored in directory: /root/.cache/pip/wheels/29/3c/fd/7ce5c3f0666dab31a50123635e6fb5e19ceb42ce38d4e58f45\n",
            "Successfully built sacremoses\n",
            "Installing collected packages: sacremoses, tokenizers, transformers\n",
            "Successfully installed sacremoses-0.0.43 tokenizers-0.9.4 transformers-4.1.1\n"
          ],
          "name": "stdout"
        }
      ]
    },
    {
      "cell_type": "code",
      "metadata": {
        "id": "4yMGz4zTfBPb",
        "colab": {
          "base_uri": "https://localhost:8080/"
        },
        "outputId": "c6ad3ae3-417a-4146-a8fb-80966cd2e83b"
      },
      "source": [
        "from google.colab import drive\n",
        "drive.mount('/content/drive')"
      ],
      "execution_count": null,
      "outputs": [
        {
          "output_type": "stream",
          "text": [
            "Drive already mounted at /content/drive; to attempt to forcibly remount, call drive.mount(\"/content/drive\", force_remount=True).\n"
          ],
          "name": "stdout"
        }
      ]
    },
    {
      "cell_type": "code",
      "metadata": {
        "id": "lFYAjP1bgRi7"
      },
      "source": [
        "import pandas as pd\n",
        "\n",
        "path = \"/content/drive/My Drive/T-brain2/data/trainset.csv\"\n",
        "train_data = pd.read_csv(path)\n",
        "path = \"/content/drive/My Drive/T-brain2/data/testset.csv\"\n",
        "test_data = pd.read_csv(path)"
      ],
      "execution_count": null,
      "outputs": []
    },
    {
      "cell_type": "code",
      "metadata": {
        "colab": {
          "base_uri": "https://localhost:8080/",
          "height": 203
        },
        "id": "befpUQd1ggEu",
        "outputId": "f83e39f5-1a8f-4133-d67b-35391c4c6d9c"
      },
      "source": [
        "train_data.head()"
      ],
      "execution_count": null,
      "outputs": [
        {
          "output_type": "execute_result",
          "data": {
            "text/html": [
              "<div>\n",
              "<style scoped>\n",
              "    .dataframe tbody tr th:only-of-type {\n",
              "        vertical-align: middle;\n",
              "    }\n",
              "\n",
              "    .dataframe tbody tr th {\n",
              "        vertical-align: top;\n",
              "    }\n",
              "\n",
              "    .dataframe thead th {\n",
              "        text-align: right;\n",
              "    }\n",
              "</style>\n",
              "<table border=\"1\" class=\"dataframe\">\n",
              "  <thead>\n",
              "    <tr style=\"text-align: right;\">\n",
              "      <th></th>\n",
              "      <th>Title</th>\n",
              "      <th>Abstract</th>\n",
              "      <th>Classifications</th>\n",
              "    </tr>\n",
              "  </thead>\n",
              "  <tbody>\n",
              "    <tr>\n",
              "      <th>0</th>\n",
              "      <td>Distinctiveness, complexity, and repeatability...</td>\n",
              "      <td>This paper proposes three measures to quantify...</td>\n",
              "      <td>ENGINEERING</td>\n",
              "    </tr>\n",
              "    <tr>\n",
              "      <th>1</th>\n",
              "      <td>An Adaptable Fast Matrix Multiplication Algori...</td>\n",
              "      <td>In this paper we present an adaptable fast mat...</td>\n",
              "      <td>EMPIRICAL</td>\n",
              "    </tr>\n",
              "    <tr>\n",
              "      <th>2</th>\n",
              "      <td>Trimming the Multipath for Efficient Dynamic R...</td>\n",
              "      <td>Multipath routing is a trivial way to exploit ...</td>\n",
              "      <td>THEORETICAL ENGINEERING</td>\n",
              "    </tr>\n",
              "    <tr>\n",
              "      <th>3</th>\n",
              "      <td>Learning Word Embeddings from Speech</td>\n",
              "      <td>In this paper, we propose a novel deep neural ...</td>\n",
              "      <td>ENGINEERING EMPIRICAL</td>\n",
              "    </tr>\n",
              "    <tr>\n",
              "      <th>4</th>\n",
              "      <td>A Unified Model for Near and Remote Sensing</td>\n",
              "      <td>We propose a novel convolutional neural networ...</td>\n",
              "      <td>THEORETICAL ENGINEERING</td>\n",
              "    </tr>\n",
              "  </tbody>\n",
              "</table>\n",
              "</div>"
            ],
            "text/plain": [
              "                                               Title  ...          Classifications\n",
              "0  Distinctiveness, complexity, and repeatability...  ...              ENGINEERING\n",
              "1  An Adaptable Fast Matrix Multiplication Algori...  ...                EMPIRICAL\n",
              "2  Trimming the Multipath for Efficient Dynamic R...  ...  THEORETICAL ENGINEERING\n",
              "3               Learning Word Embeddings from Speech  ...    ENGINEERING EMPIRICAL\n",
              "4        A Unified Model for Near and Remote Sensing  ...  THEORETICAL ENGINEERING\n",
              "\n",
              "[5 rows x 3 columns]"
            ]
          },
          "metadata": {
            "tags": []
          },
          "execution_count": 7
        }
      ]
    },
    {
      "cell_type": "code",
      "metadata": {
        "colab": {
          "base_uri": "https://localhost:8080/"
        },
        "id": "GzyfN8TdnXni",
        "outputId": "63bda581-94aa-4059-8518-98936dae0a0f"
      },
      "source": [
        "train_data[\"Classifications\"].value_counts()"
      ],
      "execution_count": null,
      "outputs": [
        {
          "output_type": "execute_result",
          "data": {
            "text/plain": [
              "THEORETICAL                          1964\n",
              "ENGINEERING                          1902\n",
              "EMPIRICAL                            1009\n",
              "THEORETICAL ENGINEERING               736\n",
              "ENGINEERING EMPIRICAL                 613\n",
              "THEORETICAL EMPIRICAL                 375\n",
              "OTHERS                                259\n",
              "THEORETICAL ENGINEERING EMPIRICAL     142\n",
              "Name: Classifications, dtype: int64"
            ]
          },
          "metadata": {
            "tags": []
          },
          "execution_count": 8
        }
      ]
    },
    {
      "cell_type": "code",
      "metadata": {
        "id": "ZHFINyvE5reY"
      },
      "source": [
        "replace_dict={\"THEORETICAL\":1,\n",
        "\"ENGINEERING\":2,\n",
        "\"EMPIRICAL\":3,\n",
        "\"THEORETICAL ENGINEERING\":4,\n",
        "\"ENGINEERING EMPIRICAL\":5,\n",
        "\"THEORETICAL EMPIRICAL\":6,\n",
        "\"OTHERS\":7,\n",
        "\"THEORETICAL ENGINEERING EMPIRICAL\":8}"
      ],
      "execution_count": null,
      "outputs": []
    },
    {
      "cell_type": "code",
      "metadata": {
        "id": "KRGvy_OK6Fwk"
      },
      "source": [
        "train_data[\"Classifications\"]=train_data[\"Classifications\"].map(replace_dict)"
      ],
      "execution_count": null,
      "outputs": []
    },
    {
      "cell_type": "code",
      "metadata": {
        "colab": {
          "base_uri": "https://localhost:8080/",
          "height": 203
        },
        "id": "8Tm0YNdDgjfj",
        "outputId": "b798dcbf-c520-4bc7-b0a2-46da241e6168"
      },
      "source": [
        "test_data.head()"
      ],
      "execution_count": null,
      "outputs": [
        {
          "output_type": "execute_result",
          "data": {
            "text/html": [
              "<div>\n",
              "<style scoped>\n",
              "    .dataframe tbody tr th:only-of-type {\n",
              "        vertical-align: middle;\n",
              "    }\n",
              "\n",
              "    .dataframe tbody tr th {\n",
              "        vertical-align: top;\n",
              "    }\n",
              "\n",
              "    .dataframe thead th {\n",
              "        text-align: right;\n",
              "    }\n",
              "</style>\n",
              "<table border=\"1\" class=\"dataframe\">\n",
              "  <thead>\n",
              "    <tr style=\"text-align: right;\">\n",
              "      <th></th>\n",
              "      <th>Id</th>\n",
              "      <th>Title</th>\n",
              "      <th>Abstract</th>\n",
              "    </tr>\n",
              "  </thead>\n",
              "  <tbody>\n",
              "    <tr>\n",
              "      <th>0</th>\n",
              "      <td>1</td>\n",
              "      <td>Efficient Visual Coding: From Retina To V2</td>\n",
              "      <td>The human visual system has a hierarchical str...</td>\n",
              "    </tr>\n",
              "    <tr>\n",
              "      <th>1</th>\n",
              "      <td>2</td>\n",
              "      <td>PolyMorph: Increasing P300 Spelling Efficiency...</td>\n",
              "      <td>P300 is an electric signal emitted by brain ab...</td>\n",
              "    </tr>\n",
              "    <tr>\n",
              "      <th>2</th>\n",
              "      <td>3</td>\n",
              "      <td>Cooperative Cognitive Networks: Optimal, Distr...</td>\n",
              "      <td>This paper considers the cooperation between a...</td>\n",
              "    </tr>\n",
              "    <tr>\n",
              "      <th>3</th>\n",
              "      <td>4</td>\n",
              "      <td>Indoor occupancy estimation from carbon dioxid...</td>\n",
              "      <td>This paper presents an indoor occupancy estima...</td>\n",
              "    </tr>\n",
              "    <tr>\n",
              "      <th>4</th>\n",
              "      <td>5</td>\n",
              "      <td>Lower Bound for General Circuits Computing Cli...</td>\n",
              "      <td>We prove an exponential lower bound for genera...</td>\n",
              "    </tr>\n",
              "  </tbody>\n",
              "</table>\n",
              "</div>"
            ],
            "text/plain": [
              "   Id  ...                                           Abstract\n",
              "0   1  ...  The human visual system has a hierarchical str...\n",
              "1   2  ...  P300 is an electric signal emitted by brain ab...\n",
              "2   3  ...  This paper considers the cooperation between a...\n",
              "3   4  ...  This paper presents an indoor occupancy estima...\n",
              "4   5  ...  We prove an exponential lower bound for genera...\n",
              "\n",
              "[5 rows x 3 columns]"
            ]
          },
          "metadata": {
            "tags": []
          },
          "execution_count": 11
        }
      ]
    },
    {
      "cell_type": "code",
      "metadata": {
        "colab": {
          "base_uri": "https://localhost:8080/"
        },
        "id": "sGugO7roU4Ug",
        "outputId": "a9b561c9-9718-465c-f484-32faa8c89d40"
      },
      "source": [
        "train_data[\"Classifications\"]"
      ],
      "execution_count": null,
      "outputs": [
        {
          "output_type": "execute_result",
          "data": {
            "text/plain": [
              "0       2\n",
              "1       3\n",
              "2       4\n",
              "3       5\n",
              "4       4\n",
              "       ..\n",
              "6995    6\n",
              "6996    2\n",
              "6997    3\n",
              "6998    3\n",
              "6999    1\n",
              "Name: Classifications, Length: 7000, dtype: int64"
            ]
          },
          "metadata": {
            "tags": []
          },
          "execution_count": 12
        }
      ]
    },
    {
      "cell_type": "code",
      "metadata": {
        "id": "dBxY46ZkTMq6"
      },
      "source": [
        ""
      ],
      "execution_count": null,
      "outputs": []
    },
    {
      "cell_type": "code",
      "metadata": {
        "id": "Y4emJiaJrNFK",
        "colab": {
          "base_uri": "https://localhost:8080/",
          "height": 116,
          "referenced_widgets": [
            "750d89e9b8c44fbca41f2bab52f421cb",
            "5984918960a044aab6ad9d2f9a9f6bc9",
            "5d54a4274b844ba1af36bb0e7640f829",
            "288259f3364e4da38906eddd11d70bdd",
            "b0bd426930d74fb69b75c2e7c580c962",
            "4a94b6e5a08742efb69759262a1482b5",
            "1b1f55d8bab8409d8e0c8569ae55aa6f",
            "625f0b2b23d14258a37c0af718e7e778",
            "60ed54ef3b114df4a21f7ab913b2ca3a",
            "6fcbb3fcb8c84a67b07f927653555f3c",
            "b0733da65e4b405ab09df32ac2a27574",
            "69929765e6c24dfcb1e9970307705293",
            "92fb2e124e7c40f087bf9627f380442c",
            "3c0d837e8c4248c182fddf799ab85de2",
            "b422d2c0c2d242c588d57f827ec8dfd0",
            "92d07324d01043718f0bae344b7ad880"
          ]
        },
        "outputId": "a8153c89-386f-46b8-f09f-add3ced27e5f"
      },
      "source": [
        "from transformers import RobertaTokenizer\n",
        "tokenizer = RobertaTokenizer.from_pretrained('roberta-base', do_lower_case=True)\n",
        "max_length=32"
      ],
      "execution_count": null,
      "outputs": [
        {
          "output_type": "display_data",
          "data": {
            "application/vnd.jupyter.widget-view+json": {
              "model_id": "750d89e9b8c44fbca41f2bab52f421cb",
              "version_minor": 0,
              "version_major": 2
            },
            "text/plain": [
              "HBox(children=(FloatProgress(value=0.0, description='Downloading', max=898823.0, style=ProgressStyle(descripti…"
            ]
          },
          "metadata": {
            "tags": []
          }
        },
        {
          "output_type": "stream",
          "text": [
            "\n"
          ],
          "name": "stdout"
        },
        {
          "output_type": "display_data",
          "data": {
            "application/vnd.jupyter.widget-view+json": {
              "model_id": "60ed54ef3b114df4a21f7ab913b2ca3a",
              "version_minor": 0,
              "version_major": 2
            },
            "text/plain": [
              "HBox(children=(FloatProgress(value=0.0, description='Downloading', max=456318.0, style=ProgressStyle(descripti…"
            ]
          },
          "metadata": {
            "tags": []
          }
        },
        {
          "output_type": "stream",
          "text": [
            "\n"
          ],
          "name": "stdout"
        }
      ]
    },
    {
      "cell_type": "code",
      "metadata": {
        "id": "gPWUu2GJyEY2"
      },
      "source": [
        "import numpy as np\n",
        "x_input=np.empty((0,max_length),int)\n",
        "for doc in train_data[\"Title\"]:\n",
        "  temp=tokenizer(train_data[\"Title\"][0],max_length = max_length,padding=\"max_length\",truncation=True)\n",
        "  x_input=np.append(x_input,[temp['input_ids']],axis=0)"
      ],
      "execution_count": null,
      "outputs": []
    },
    {
      "cell_type": "code",
      "metadata": {
        "colab": {
          "base_uri": "https://localhost:8080/"
        },
        "id": "ux2YY0AsWMs9",
        "outputId": "92c0b4b5-ae02-4ab6-f210-21b74abd5ec8"
      },
      "source": [
        "from imblearn.under_sampling import RandomUnderSampler\n",
        "sample_method=RandomUnderSampler(random_state=143)\n",
        "X_train,y_train=sample_method.fit_sample(x_input,np.array(train_data[\"Classifications\"]))"
      ],
      "execution_count": null,
      "outputs": [
        {
          "output_type": "stream",
          "text": [
            "/usr/local/lib/python3.6/dist-packages/sklearn/externals/six.py:31: FutureWarning: The module is deprecated in version 0.21 and will be removed in version 0.23 since we've dropped support for Python 2.7. Please rely on the official version of six (https://pypi.org/project/six/).\n",
            "  \"(https://pypi.org/project/six/).\", FutureWarning)\n",
            "/usr/local/lib/python3.6/dist-packages/sklearn/utils/deprecation.py:144: FutureWarning: The sklearn.neighbors.base module is  deprecated in version 0.22 and will be removed in version 0.24. The corresponding classes / functions should instead be imported from sklearn.neighbors. Anything that cannot be imported from sklearn.neighbors is now part of the private API.\n",
            "  warnings.warn(message, FutureWarning)\n",
            "/usr/local/lib/python3.6/dist-packages/sklearn/utils/deprecation.py:87: FutureWarning: Function safe_indexing is deprecated; safe_indexing is deprecated in version 0.22 and will be removed in version 0.24.\n",
            "  warnings.warn(msg, category=FutureWarning)\n"
          ],
          "name": "stderr"
        }
      ]
    },
    {
      "cell_type": "code",
      "metadata": {
        "colab": {
          "base_uri": "https://localhost:8080/"
        },
        "id": "BKonLh0iZZo6",
        "outputId": "fe51a7fc-bd3a-4469-aa0a-629d19ede2b6"
      },
      "source": [
        "np.unique(y_train,return_counts=1)"
      ],
      "execution_count": null,
      "outputs": [
        {
          "output_type": "execute_result",
          "data": {
            "text/plain": [
              "(array([1, 2, 3, 4, 5, 6, 7, 8]),\n",
              " array([142, 142, 142, 142, 142, 142, 142, 142]))"
            ]
          },
          "metadata": {
            "tags": []
          },
          "execution_count": 16
        }
      ]
    },
    {
      "cell_type": "code",
      "metadata": {
        "id": "wprQzVCpgo0D",
        "colab": {
          "base_uri": "https://localhost:8080/"
        },
        "outputId": "05b5619b-1766-4111-9157-556e88285e37"
      },
      "source": [
        "from transformers import TFRobertaForSequenceClassification\n",
        "import tensorflow as tf\n",
        "model = TFRobertaForSequenceClassification.from_pretrained('roberta-base', num_labels = 8)\n",
        "optimizer = tf.keras.optimizers.Adam(learning_rate=1e-05)\n",
        "loss = tf.keras.losses.SparseCategoricalCrossentropy(from_logits=True)\n",
        "metric = tf.keras.metrics.SparseCategoricalAccuracy(name='accuracy')\n",
        "model.compile(optimizer=optimizer,loss=loss,metrics=[metric])"
      ],
      "execution_count": null,
      "outputs": [
        {
          "output_type": "stream",
          "text": [
            "All model checkpoint layers were used when initializing TFRobertaForSequenceClassification.\n",
            "\n",
            "Some layers of TFRobertaForSequenceClassification were not initialized from the model checkpoint at roberta-base and are newly initialized: ['classifier']\n",
            "You should probably TRAIN this model on a down-stream task to be able to use it for predictions and inference.\n"
          ],
          "name": "stderr"
        }
      ]
    },
    {
      "cell_type": "code",
      "metadata": {
        "colab": {
          "base_uri": "https://localhost:8080/"
        },
        "id": "e5k-Vo2yL0Q7",
        "outputId": "aa09beb2-519a-4d43-8d05-46b76c09603f"
      },
      "source": [
        "model.summary()"
      ],
      "execution_count": null,
      "outputs": [
        {
          "output_type": "stream",
          "text": [
            "Model: \"tf_roberta_for_sequence_classification_11\"\n",
            "_________________________________________________________________\n",
            "Layer (type)                 Output Shape              Param #   \n",
            "=================================================================\n",
            "roberta (TFRobertaMainLayer) multiple                  124055040 \n",
            "_________________________________________________________________\n",
            "classifier (TFRobertaClassif multiple                  596744    \n",
            "=================================================================\n",
            "Total params: 124,651,784\n",
            "Trainable params: 124,651,784\n",
            "Non-trainable params: 0\n",
            "_________________________________________________________________\n"
          ],
          "name": "stdout"
        }
      ]
    },
    {
      "cell_type": "code",
      "metadata": {
        "id": "E3B7fvhzquhc",
        "colab": {
          "base_uri": "https://localhost:8080/"
        },
        "outputId": "6d31e4a3-980f-4396-e810-ed59c53f2f7b"
      },
      "source": [
        "roberta_history = model.fit(X_train,y_train,\n",
        "                            epochs=30,batch_size=16,shuffle=False,verbose=1,validation_split=0.4)"
      ],
      "execution_count": null,
      "outputs": [
        {
          "output_type": "stream",
          "text": [
            "The parameters `output_attentions`, `output_hidden_states` and `use_cache` cannot be updated when calling a model.They have to be set to True/False in the config object (i.e.: `config=XConfig.from_pretrained('name', output_attentions=True)`).\n",
            "The parameter `return_dict` cannot be set in graph mode and will always be set to `True`.\n"
          ],
          "name": "stderr"
        },
        {
          "output_type": "stream",
          "text": [
            "Epoch 1/30\n"
          ],
          "name": "stdout"
        },
        {
          "output_type": "stream",
          "text": [
            "The parameters `output_attentions`, `output_hidden_states` and `use_cache` cannot be updated when calling a model.They have to be set to True/False in the config object (i.e.: `config=XConfig.from_pretrained('name', output_attentions=True)`).\n",
            "The parameter `return_dict` cannot be set in graph mode and will always be set to `True`.\n"
          ],
          "name": "stderr"
        },
        {
          "output_type": "stream",
          "text": [
            "43/43 [==============================] - ETA: 0s - loss: 1.9598 - accuracy: 0.3632"
          ],
          "name": "stdout"
        },
        {
          "output_type": "stream",
          "text": [
            "The parameters `output_attentions`, `output_hidden_states` and `use_cache` cannot be updated when calling a model.They have to be set to True/False in the config object (i.e.: `config=XConfig.from_pretrained('name', output_attentions=True)`).\n",
            "The parameter `return_dict` cannot be set in graph mode and will always be set to `True`.\n"
          ],
          "name": "stderr"
        },
        {
          "output_type": "stream",
          "text": [
            "43/43 [==============================] - 24s 229ms/step - loss: 1.9621 - accuracy: 0.3590 - val_loss: nan - val_accuracy: 0.0000e+00\n",
            "Epoch 2/30\n",
            "43/43 [==============================] - 7s 170ms/step - loss: 2.0568 - accuracy: 0.1647 - val_loss: nan - val_accuracy: 0.0000e+00\n",
            "Epoch 3/30\n",
            "43/43 [==============================] - 7s 169ms/step - loss: 1.9426 - accuracy: 0.2133 - val_loss: nan - val_accuracy: 0.0000e+00\n",
            "Epoch 4/30\n",
            "43/43 [==============================] - 7s 169ms/step - loss: 1.8734 - accuracy: 0.1347 - val_loss: nan - val_accuracy: 0.0000e+00\n",
            "Epoch 5/30\n",
            "43/43 [==============================] - 7s 169ms/step - loss: 1.8616 - accuracy: 0.0934 - val_loss: nan - val_accuracy: 0.0637\n",
            "Epoch 6/30\n",
            "43/43 [==============================] - 7s 170ms/step - loss: 1.8341 - accuracy: 0.1665 - val_loss: nan - val_accuracy: 0.0000e+00\n",
            "Epoch 7/30\n",
            "43/43 [==============================] - 7s 170ms/step - loss: 1.7131 - accuracy: 0.2074 - val_loss: nan - val_accuracy: 0.0637\n",
            "Epoch 8/30\n",
            "43/43 [==============================] - 7s 171ms/step - loss: 1.5676 - accuracy: 0.3054 - val_loss: nan - val_accuracy: 0.0637\n",
            "Epoch 9/30\n",
            "43/43 [==============================] - 7s 170ms/step - loss: 1.5346 - accuracy: 0.2366 - val_loss: nan - val_accuracy: 0.0637\n",
            "Epoch 10/30\n",
            "43/43 [==============================] - 7s 169ms/step - loss: 1.4310 - accuracy: 0.3534 - val_loss: nan - val_accuracy: 0.0000e+00\n",
            "Epoch 11/30\n",
            "43/43 [==============================] - 7s 170ms/step - loss: 1.6282 - accuracy: 0.2841 - val_loss: nan - val_accuracy: 0.0637\n",
            "Epoch 12/30\n",
            "43/43 [==============================] - 7s 170ms/step - loss: 1.1423 - accuracy: 0.5296 - val_loss: nan - val_accuracy: 0.0000e+00\n",
            "Epoch 13/30\n",
            "43/43 [==============================] - 7s 169ms/step - loss: 1.6319 - accuracy: 0.3944 - val_loss: nan - val_accuracy: 0.0637\n",
            "Epoch 14/30\n",
            "43/43 [==============================] - 7s 170ms/step - loss: 1.3632 - accuracy: 0.3530 - val_loss: nan - val_accuracy: 0.0637\n",
            "Epoch 15/30\n",
            "43/43 [==============================] - 7s 170ms/step - loss: 2.0785 - accuracy: 0.0024 - val_loss: nan - val_accuracy: 0.0000e+00\n",
            "Epoch 16/30\n",
            "43/43 [==============================] - 7s 169ms/step - loss: 1.8594 - accuracy: 0.0145 - val_loss: nan - val_accuracy: 0.0000e+00\n",
            "Epoch 17/30\n",
            "43/43 [==============================] - 7s 172ms/step - loss: 1.7909 - accuracy: 0.0466 - val_loss: nan - val_accuracy: 0.0000e+00\n",
            "Epoch 18/30\n",
            "43/43 [==============================] - 7s 171ms/step - loss: 1.7203 - accuracy: 0.0985 - val_loss: nan - val_accuracy: 0.0000e+00\n",
            "Epoch 19/30\n",
            "43/43 [==============================] - 7s 172ms/step - loss: 1.7320 - accuracy: 0.0314 - val_loss: nan - val_accuracy: 0.0000e+00\n",
            "Epoch 20/30\n",
            "43/43 [==============================] - 7s 173ms/step - loss: 1.7486 - accuracy: 0.0103 - val_loss: nan - val_accuracy: 0.0000e+00\n",
            "Epoch 21/30\n",
            "43/43 [==============================] - 7s 170ms/step - loss: 1.7403 - accuracy: 0.0103 - val_loss: nan - val_accuracy: 0.0000e+00\n",
            "Epoch 22/30\n",
            "43/43 [==============================] - 7s 172ms/step - loss: 1.7304 - accuracy: 0.0122 - val_loss: nan - val_accuracy: 0.0000e+00\n",
            "Epoch 23/30\n",
            "43/43 [==============================] - 7s 171ms/step - loss: 1.7337 - accuracy: 0.0129 - val_loss: nan - val_accuracy: 0.0000e+00\n",
            "Epoch 24/30\n",
            "43/43 [==============================] - 7s 172ms/step - loss: 1.7235 - accuracy: 0.0211 - val_loss: nan - val_accuracy: 0.0000e+00\n",
            "Epoch 25/30\n",
            "43/43 [==============================] - 7s 174ms/step - loss: 1.7129 - accuracy: 0.0256 - val_loss: nan - val_accuracy: 0.0000e+00\n",
            "Epoch 26/30\n",
            "43/43 [==============================] - 7s 173ms/step - loss: 1.7196 - accuracy: 0.0232 - val_loss: nan - val_accuracy: 0.0000e+00\n",
            "Epoch 27/30\n",
            "43/43 [==============================] - 7s 174ms/step - loss: 1.7080 - accuracy: 0.0329 - val_loss: nan - val_accuracy: 0.0000e+00\n",
            "Epoch 28/30\n",
            "43/43 [==============================] - 7s 171ms/step - loss: 1.7036 - accuracy: 0.0331 - val_loss: nan - val_accuracy: 0.0000e+00\n",
            "Epoch 29/30\n",
            "43/43 [==============================] - 7s 171ms/step - loss: 1.6950 - accuracy: 0.0204 - val_loss: nan - val_accuracy: 0.0000e+00\n",
            "Epoch 30/30\n",
            "43/43 [==============================] - 7s 172ms/step - loss: 1.6939 - accuracy: 0.0185 - val_loss: nan - val_accuracy: 0.0000e+00\n"
          ],
          "name": "stdout"
        }
      ]
    },
    {
      "cell_type": "code",
      "metadata": {
        "id": "Pc44IVWC5L4X"
      },
      "source": [
        ""
      ],
      "execution_count": null,
      "outputs": []
    },
    {
      "cell_type": "markdown",
      "metadata": {
        "id": "VWOqMv5Z5Jj8"
      },
      "source": [
        ""
      ]
    }
  ]
}