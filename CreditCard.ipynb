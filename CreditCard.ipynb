{
  "nbformat": 4,
  "nbformat_minor": 0,
  "metadata": {
    "colab": {
      "name": "CreditCard.ipynb",
      "provenance": [],
      "collapsed_sections": [],
      "machine_shape": "hm"
    },
    "kernelspec": {
      "name": "python3",
      "display_name": "Python 3"
    },
    "accelerator": "GPU"
  },
  "cells": [
    {
      "cell_type": "code",
      "metadata": {
        "id": "Pjqi9nTp90y_",
        "colab": {
          "base_uri": "https://localhost:8080/",
          "height": 52
        },
        "outputId": "365a776a-8a6b-4de2-ad4f-ab8b628da9ba"
      },
      "source": [
        "cd /content/drive/My\\ Drive/T-brain/data"
      ],
      "execution_count": null,
      "outputs": [
        {
          "output_type": "stream",
          "text": [
            "[Errno 2] No such file or directory: '/content/drive/My Drive/T-brain/data'\n",
            "/content\n"
          ],
          "name": "stdout"
        }
      ]
    },
    {
      "cell_type": "code",
      "metadata": {
        "id": "V8qTEmsBHXmB",
        "colab": {
          "base_uri": "https://localhost:8080/",
          "height": 35
        },
        "outputId": "d9cbb9d4-6ab0-45e1-9d5d-97d664db94a7"
      },
      "source": [
        "ls"
      ],
      "execution_count": null,
      "outputs": [
        {
          "output_type": "stream",
          "text": [
            "\u001b[0m\u001b[01;34msample_data\u001b[0m/\n"
          ],
          "name": "stdout"
        }
      ]
    },
    {
      "cell_type": "code",
      "metadata": {
        "id": "FDeB4M2uEAaC",
        "colab": {
          "base_uri": "https://localhost:8080/",
          "height": 124
        },
        "outputId": "b18633a8-74f5-4a60-f1ae-5856f2bda80c"
      },
      "source": [
        "from google.colab import drive\n",
        "drive.mount('/content/drive')"
      ],
      "execution_count": null,
      "outputs": [
        {
          "output_type": "stream",
          "text": [
            "Go to this URL in a browser: https://accounts.google.com/o/oauth2/auth?client_id=947318989803-6bn6qk8qdgf4n4g3pfee6491hc0brc4i.apps.googleusercontent.com&redirect_uri=urn%3Aietf%3Awg%3Aoauth%3A2.0%3Aoob&scope=email%20https%3A%2F%2Fwww.googleapis.com%2Fauth%2Fdocs.test%20https%3A%2F%2Fwww.googleapis.com%2Fauth%2Fdrive%20https%3A%2F%2Fwww.googleapis.com%2Fauth%2Fdrive.photos.readonly%20https%3A%2F%2Fwww.googleapis.com%2Fauth%2Fpeopleapi.readonly&response_type=code\n",
            "\n",
            "Enter your authorization code:\n",
            "··········\n",
            "Mounted at /content/drive\n"
          ],
          "name": "stdout"
        }
      ]
    },
    {
      "cell_type": "code",
      "metadata": {
        "id": "O0IUaL6GEnIV"
      },
      "source": [
        "import pandas as pd\n",
        "\n",
        "path = \"/content/drive/My Drive/T-brain/data/train.csv\"\n",
        "train_data = pd.read_csv(path)\n",
        "path = \"/content/drive/My Drive/T-brain/data/test.csv\"\n",
        "valid_data = pd.read_csv(path)"
      ],
      "execution_count": null,
      "outputs": []
    },
    {
      "cell_type": "code",
      "metadata": {
        "id": "fH_nGpkTHJ7w",
        "colab": {
          "base_uri": "https://localhost:8080/",
          "height": 161
        },
        "outputId": "b584f10e-ff1d-46d5-e911-e93a34600543"
      },
      "source": [
        "train_data.head(3)"
      ],
      "execution_count": null,
      "outputs": [
        {
          "output_type": "execute_result",
          "data": {
            "text/html": [
              "<div>\n",
              "<style scoped>\n",
              "    .dataframe tbody tr th:only-of-type {\n",
              "        vertical-align: middle;\n",
              "    }\n",
              "\n",
              "    .dataframe tbody tr th {\n",
              "        vertical-align: top;\n",
              "    }\n",
              "\n",
              "    .dataframe thead th {\n",
              "        text-align: right;\n",
              "    }\n",
              "</style>\n",
              "<table border=\"1\" class=\"dataframe\">\n",
              "  <thead>\n",
              "    <tr style=\"text-align: right;\">\n",
              "      <th></th>\n",
              "      <th>acqic</th>\n",
              "      <th>bacno</th>\n",
              "      <th>cano</th>\n",
              "      <th>conam</th>\n",
              "      <th>contp</th>\n",
              "      <th>csmcu</th>\n",
              "      <th>ecfg</th>\n",
              "      <th>etymd</th>\n",
              "      <th>flbmk</th>\n",
              "      <th>flg_3dsmk</th>\n",
              "      <th>fraud_ind</th>\n",
              "      <th>hcefg</th>\n",
              "      <th>insfg</th>\n",
              "      <th>iterm</th>\n",
              "      <th>locdt</th>\n",
              "      <th>loctm</th>\n",
              "      <th>mcc</th>\n",
              "      <th>mchno</th>\n",
              "      <th>ovrlt</th>\n",
              "      <th>scity</th>\n",
              "      <th>stocn</th>\n",
              "      <th>stscd</th>\n",
              "      <th>txkey</th>\n",
              "    </tr>\n",
              "  </thead>\n",
              "  <tbody>\n",
              "    <tr>\n",
              "      <th>0</th>\n",
              "      <td>6881</td>\n",
              "      <td>113261</td>\n",
              "      <td>38038</td>\n",
              "      <td>513.80</td>\n",
              "      <td>5</td>\n",
              "      <td>0</td>\n",
              "      <td>N</td>\n",
              "      <td>0</td>\n",
              "      <td>N</td>\n",
              "      <td>N</td>\n",
              "      <td>0</td>\n",
              "      <td>5</td>\n",
              "      <td>N</td>\n",
              "      <td>0</td>\n",
              "      <td>33</td>\n",
              "      <td>172652.0</td>\n",
              "      <td>457</td>\n",
              "      <td>59333</td>\n",
              "      <td>N</td>\n",
              "      <td>0</td>\n",
              "      <td>102</td>\n",
              "      <td>0</td>\n",
              "      <td>516056</td>\n",
              "    </tr>\n",
              "    <tr>\n",
              "      <th>1</th>\n",
              "      <td>0</td>\n",
              "      <td>134508</td>\n",
              "      <td>45725</td>\n",
              "      <td>465.62</td>\n",
              "      <td>5</td>\n",
              "      <td>0</td>\n",
              "      <td>N</td>\n",
              "      <td>2</td>\n",
              "      <td>N</td>\n",
              "      <td>N</td>\n",
              "      <td>0</td>\n",
              "      <td>0</td>\n",
              "      <td>N</td>\n",
              "      <td>0</td>\n",
              "      <td>9</td>\n",
              "      <td>105114.0</td>\n",
              "      <td>451</td>\n",
              "      <td>0</td>\n",
              "      <td>N</td>\n",
              "      <td>5817</td>\n",
              "      <td>102</td>\n",
              "      <td>0</td>\n",
              "      <td>4376</td>\n",
              "    </tr>\n",
              "    <tr>\n",
              "      <th>2</th>\n",
              "      <td>6881</td>\n",
              "      <td>15408</td>\n",
              "      <td>188328</td>\n",
              "      <td>513.80</td>\n",
              "      <td>5</td>\n",
              "      <td>0</td>\n",
              "      <td>N</td>\n",
              "      <td>0</td>\n",
              "      <td>N</td>\n",
              "      <td>N</td>\n",
              "      <td>0</td>\n",
              "      <td>5</td>\n",
              "      <td>N</td>\n",
              "      <td>0</td>\n",
              "      <td>6</td>\n",
              "      <td>152458.0</td>\n",
              "      <td>457</td>\n",
              "      <td>59333</td>\n",
              "      <td>N</td>\n",
              "      <td>0</td>\n",
              "      <td>102</td>\n",
              "      <td>0</td>\n",
              "      <td>483434</td>\n",
              "    </tr>\n",
              "  </tbody>\n",
              "</table>\n",
              "</div>"
            ],
            "text/plain": [
              "   acqic   bacno    cano   conam  contp  ...  ovrlt scity  stocn stscd   txkey\n",
              "0   6881  113261   38038  513.80      5  ...      N     0    102     0  516056\n",
              "1      0  134508   45725  465.62      5  ...      N  5817    102     0    4376\n",
              "2   6881   15408  188328  513.80      5  ...      N     0    102     0  483434\n",
              "\n",
              "[3 rows x 23 columns]"
            ]
          },
          "metadata": {
            "tags": []
          },
          "execution_count": 87
        }
      ]
    },
    {
      "cell_type": "code",
      "metadata": {
        "id": "nCgWehEkHd_d",
        "colab": {
          "base_uri": "https://localhost:8080/",
          "height": 161
        },
        "outputId": "c465426c-2d4f-4ca2-9e49-e88d300d83f2"
      },
      "source": [
        "valid_data.head(3)"
      ],
      "execution_count": null,
      "outputs": [
        {
          "output_type": "execute_result",
          "data": {
            "text/html": [
              "<div>\n",
              "<style scoped>\n",
              "    .dataframe tbody tr th:only-of-type {\n",
              "        vertical-align: middle;\n",
              "    }\n",
              "\n",
              "    .dataframe tbody tr th {\n",
              "        vertical-align: top;\n",
              "    }\n",
              "\n",
              "    .dataframe thead th {\n",
              "        text-align: right;\n",
              "    }\n",
              "</style>\n",
              "<table border=\"1\" class=\"dataframe\">\n",
              "  <thead>\n",
              "    <tr style=\"text-align: right;\">\n",
              "      <th></th>\n",
              "      <th>acqic</th>\n",
              "      <th>bacno</th>\n",
              "      <th>cano</th>\n",
              "      <th>conam</th>\n",
              "      <th>contp</th>\n",
              "      <th>csmcu</th>\n",
              "      <th>ecfg</th>\n",
              "      <th>etymd</th>\n",
              "      <th>flbmk</th>\n",
              "      <th>flg_3dsmk</th>\n",
              "      <th>hcefg</th>\n",
              "      <th>insfg</th>\n",
              "      <th>iterm</th>\n",
              "      <th>locdt</th>\n",
              "      <th>loctm</th>\n",
              "      <th>mcc</th>\n",
              "      <th>mchno</th>\n",
              "      <th>ovrlt</th>\n",
              "      <th>scity</th>\n",
              "      <th>stocn</th>\n",
              "      <th>stscd</th>\n",
              "      <th>txkey</th>\n",
              "    </tr>\n",
              "  </thead>\n",
              "  <tbody>\n",
              "    <tr>\n",
              "      <th>0</th>\n",
              "      <td>6881</td>\n",
              "      <td>163188</td>\n",
              "      <td>116799</td>\n",
              "      <td>513.8</td>\n",
              "      <td>5</td>\n",
              "      <td>0</td>\n",
              "      <td>N</td>\n",
              "      <td>0</td>\n",
              "      <td>N</td>\n",
              "      <td>N</td>\n",
              "      <td>5</td>\n",
              "      <td>N</td>\n",
              "      <td>0</td>\n",
              "      <td>102</td>\n",
              "      <td>215328.0</td>\n",
              "      <td>457</td>\n",
              "      <td>59360</td>\n",
              "      <td>N</td>\n",
              "      <td>0</td>\n",
              "      <td>102</td>\n",
              "      <td>0</td>\n",
              "      <td>592489</td>\n",
              "    </tr>\n",
              "    <tr>\n",
              "      <th>1</th>\n",
              "      <td>6881</td>\n",
              "      <td>163188</td>\n",
              "      <td>116799</td>\n",
              "      <td>513.8</td>\n",
              "      <td>5</td>\n",
              "      <td>0</td>\n",
              "      <td>N</td>\n",
              "      <td>0</td>\n",
              "      <td>N</td>\n",
              "      <td>N</td>\n",
              "      <td>5</td>\n",
              "      <td>N</td>\n",
              "      <td>0</td>\n",
              "      <td>102</td>\n",
              "      <td>222007.0</td>\n",
              "      <td>457</td>\n",
              "      <td>59360</td>\n",
              "      <td>N</td>\n",
              "      <td>0</td>\n",
              "      <td>102</td>\n",
              "      <td>0</td>\n",
              "      <td>592452</td>\n",
              "    </tr>\n",
              "    <tr>\n",
              "      <th>2</th>\n",
              "      <td>6881</td>\n",
              "      <td>163188</td>\n",
              "      <td>116799</td>\n",
              "      <td>513.8</td>\n",
              "      <td>5</td>\n",
              "      <td>0</td>\n",
              "      <td>N</td>\n",
              "      <td>0</td>\n",
              "      <td>N</td>\n",
              "      <td>N</td>\n",
              "      <td>5</td>\n",
              "      <td>N</td>\n",
              "      <td>0</td>\n",
              "      <td>100</td>\n",
              "      <td>170013.0</td>\n",
              "      <td>457</td>\n",
              "      <td>59360</td>\n",
              "      <td>N</td>\n",
              "      <td>0</td>\n",
              "      <td>102</td>\n",
              "      <td>0</td>\n",
              "      <td>590212</td>\n",
              "    </tr>\n",
              "  </tbody>\n",
              "</table>\n",
              "</div>"
            ],
            "text/plain": [
              "   acqic   bacno    cano  conam  contp  ...  ovrlt scity  stocn stscd   txkey\n",
              "0   6881  163188  116799  513.8      5  ...      N     0    102     0  592489\n",
              "1   6881  163188  116799  513.8      5  ...      N     0    102     0  592452\n",
              "2   6881  163188  116799  513.8      5  ...      N     0    102     0  590212\n",
              "\n",
              "[3 rows x 22 columns]"
            ]
          },
          "metadata": {
            "tags": []
          },
          "execution_count": 88
        }
      ]
    },
    {
      "cell_type": "code",
      "metadata": {
        "id": "rjH6z8lzIV4W",
        "colab": {
          "base_uri": "https://localhost:8080/",
          "height": 52
        },
        "outputId": "27d0aaf2-0211-4ccd-edcd-3dd6bd02d4e3"
      },
      "source": [
        "print(train_data.shape,'\\n',valid_data.shape)"
      ],
      "execution_count": null,
      "outputs": [
        {
          "output_type": "stream",
          "text": [
            "(1521787, 23) \n",
            " (421665, 22)\n"
          ],
          "name": "stdout"
        }
      ]
    },
    {
      "cell_type": "code",
      "metadata": {
        "id": "Di8-P6d2IggR",
        "colab": {
          "base_uri": "https://localhost:8080/",
          "height": 55
        },
        "outputId": "e2f0df09-3723-4196-f0bf-5b75acd36fef"
      },
      "source": [
        "'''\n",
        "import pandas as pd\n",
        "import numpy as np\n",
        "%matplotlib inline\n",
        "import matplotlib.pyplot as plt\n",
        "import matplotlib.lines as mlines\n",
        "from mpl_toolkits.mplot3d import Axes3D\n",
        "import seaborn as sns\n",
        "from sklearn.model_selection import train_test_split, learning_curve\n",
        "from sklearn.metrics import average_precision_score\n",
        "from xgboost.sklearn import XGBClassifier\n",
        "from xgboost import plot_importance, to_graphviz\n",
        "import warnings\n",
        "warnings.filterwarnings(\"ignore\", category=DeprecationWarning)\n",
        "'''"
      ],
      "execution_count": null,
      "outputs": [
        {
          "output_type": "execute_result",
          "data": {
            "text/plain": [
              "'\\nimport pandas as pd\\nimport numpy as np\\n%matplotlib inline\\nimport matplotlib.pyplot as plt\\nimport matplotlib.lines as mlines\\nfrom mpl_toolkits.mplot3d import Axes3D\\nimport seaborn as sns\\nfrom sklearn.model_selection import train_test_split, learning_curve\\nfrom sklearn.metrics import average_precision_score\\nfrom xgboost.sklearn import XGBClassifier\\nfrom xgboost import plot_importance, to_graphviz\\nimport warnings\\nwarnings.filterwarnings(\"ignore\", category=DeprecationWarning)\\n'"
            ]
          },
          "metadata": {
            "tags": []
          },
          "execution_count": 90
        }
      ]
    },
    {
      "cell_type": "code",
      "metadata": {
        "id": "lQ0cz_56647p"
      },
      "source": [
        ""
      ],
      "execution_count": null,
      "outputs": []
    },
    {
      "cell_type": "markdown",
      "metadata": {
        "id": "LIiTtMGB66D9"
      },
      "source": [
        "# FEATURE ENGINERING (F.....)"
      ]
    },
    {
      "cell_type": "code",
      "metadata": {
        "id": "9jTVKTgUUgMW",
        "colab": {
          "base_uri": "https://localhost:8080/",
          "height": 35
        },
        "outputId": "5754bb6a-e5d2-4a2f-eadd-87e4ab502870"
      },
      "source": [
        "#UNDER SAMPLING FOR IMBALANCE DATA\n",
        "import numpy as np\n",
        "\n",
        "delete_size = sum(train_data.fraud_ind == 0)-sum(train_data.fraud_ind == 1)\n",
        "temp_index=(train_data[train_data['fraud_ind'] == 0]).index.tolist()\n",
        "resample_index = np.random.choice(temp_index, delete_size, replace=False)\n",
        "train_data_resample=train_data.drop(train_data.index[resample_index])\n",
        "train_data_resample.shape\n"
      ],
      "execution_count": null,
      "outputs": [
        {
          "output_type": "execute_result",
          "data": {
            "text/plain": [
              "(40710, 23)"
            ]
          },
          "metadata": {
            "tags": []
          },
          "execution_count": 91
        }
      ]
    },
    {
      "cell_type": "code",
      "metadata": {
        "id": "qRvNOzrGsD8B",
        "colab": {
          "base_uri": "https://localhost:8080/",
          "height": 52
        },
        "outputId": "e22e9dd5-51f8-4164-997b-4a57a7661d6c"
      },
      "source": [
        "print(train_data_resample.isnull().values.any())\n",
        "print(valid_data.isnull().values.any())"
      ],
      "execution_count": null,
      "outputs": [
        {
          "output_type": "stream",
          "text": [
            "True\n",
            "True\n"
          ],
          "name": "stdout"
        }
      ]
    },
    {
      "cell_type": "code",
      "metadata": {
        "id": "oh9puvhHsD3V"
      },
      "source": [
        "train_data_resample['flbmk'].fillna(value='NaN', inplace=True)\n",
        "train_data_resample['flg_3dsmk'].fillna(value='NaN', inplace=True)\n",
        "valid_data['flbmk'].fillna(value='NaN', inplace=True)\n",
        "valid_data['flg_3dsmk'].fillna(value='NaN', inplace=True)"
      ],
      "execution_count": null,
      "outputs": []
    },
    {
      "cell_type": "code",
      "metadata": {
        "id": "727aIOMoJnj9"
      },
      "source": [
        "train_data_feature=train_data_resample.drop(columns=['fraud_ind'])\n",
        "#train_data_feature=train_data[['conam','stocn','stscd','csmcu']]\n",
        "train_data_target=train_data_resample['fraud_ind']"
      ],
      "execution_count": null,
      "outputs": []
    },
    {
      "cell_type": "code",
      "metadata": {
        "id": "quSn4lTcCDtY",
        "colab": {
          "base_uri": "https://localhost:8080/",
          "height": 104
        },
        "outputId": "d2d50f9c-9a98-4aae-8370-70e7157baade"
      },
      "source": [
        "#想個辦法看看類別型資料會增維到什麼地步 各特徵有幾種樣態\n",
        "train_data_feature['stscd'].astype(object).describe()"
      ],
      "execution_count": null,
      "outputs": [
        {
          "output_type": "execute_result",
          "data": {
            "text/plain": [
              "count     40710\n",
              "unique        4\n",
              "top           0\n",
              "freq      34837\n",
              "Name: stscd, dtype: int64"
            ]
          },
          "metadata": {
            "tags": []
          },
          "execution_count": 95
        }
      ]
    },
    {
      "cell_type": "code",
      "metadata": {
        "id": "MKbpcpQ8QOTa"
      },
      "source": [
        ""
      ],
      "execution_count": null,
      "outputs": []
    },
    {
      "cell_type": "code",
      "metadata": {
        "id": "W0ZcLPS9_4qd"
      },
      "source": [
        "categorical_feature=train_data_feature.columns.difference(['acqic','bacno','cano','conam','iterm','locdt','loctm','mchno','scity','txkey'])\n",
        "#categorical_feature=['']"
      ],
      "execution_count": null,
      "outputs": []
    },
    {
      "cell_type": "code",
      "metadata": {
        "id": "4qSEnxi8lX31",
        "colab": {
          "base_uri": "https://localhost:8080/",
          "height": 129
        },
        "outputId": "d371ae5d-fa4e-4def-937e-ebf5fa4f5b5c"
      },
      "source": [
        "train_data_feature=pd.get_dummies(train_data_feature,columns=categorical_feature)\n",
        "train_data_feature.head(1)"
      ],
      "execution_count": null,
      "outputs": [
        {
          "output_type": "execute_result",
          "data": {
            "text/html": [
              "<div>\n",
              "<style scoped>\n",
              "    .dataframe tbody tr th:only-of-type {\n",
              "        vertical-align: middle;\n",
              "    }\n",
              "\n",
              "    .dataframe tbody tr th {\n",
              "        vertical-align: top;\n",
              "    }\n",
              "\n",
              "    .dataframe thead th {\n",
              "        text-align: right;\n",
              "    }\n",
              "</style>\n",
              "<table border=\"1\" class=\"dataframe\">\n",
              "  <thead>\n",
              "    <tr style=\"text-align: right;\">\n",
              "      <th></th>\n",
              "      <th>acqic</th>\n",
              "      <th>bacno</th>\n",
              "      <th>cano</th>\n",
              "      <th>conam</th>\n",
              "      <th>iterm</th>\n",
              "      <th>locdt</th>\n",
              "      <th>loctm</th>\n",
              "      <th>mchno</th>\n",
              "      <th>scity</th>\n",
              "      <th>txkey</th>\n",
              "      <th>contp_0</th>\n",
              "      <th>contp_2</th>\n",
              "      <th>contp_3</th>\n",
              "      <th>contp_4</th>\n",
              "      <th>contp_5</th>\n",
              "      <th>contp_6</th>\n",
              "      <th>csmcu_0</th>\n",
              "      <th>csmcu_3</th>\n",
              "      <th>csmcu_4</th>\n",
              "      <th>csmcu_10</th>\n",
              "      <th>csmcu_12</th>\n",
              "      <th>csmcu_13</th>\n",
              "      <th>csmcu_14</th>\n",
              "      <th>csmcu_18</th>\n",
              "      <th>csmcu_20</th>\n",
              "      <th>csmcu_21</th>\n",
              "      <th>csmcu_22</th>\n",
              "      <th>csmcu_23</th>\n",
              "      <th>csmcu_24</th>\n",
              "      <th>csmcu_25</th>\n",
              "      <th>csmcu_26</th>\n",
              "      <th>csmcu_28</th>\n",
              "      <th>csmcu_29</th>\n",
              "      <th>csmcu_30</th>\n",
              "      <th>csmcu_31</th>\n",
              "      <th>csmcu_32</th>\n",
              "      <th>csmcu_35</th>\n",
              "      <th>csmcu_38</th>\n",
              "      <th>csmcu_40</th>\n",
              "      <th>csmcu_41</th>\n",
              "      <th>...</th>\n",
              "      <th>stocn_45</th>\n",
              "      <th>stocn_46</th>\n",
              "      <th>stocn_47</th>\n",
              "      <th>stocn_48</th>\n",
              "      <th>stocn_49</th>\n",
              "      <th>stocn_50</th>\n",
              "      <th>stocn_52</th>\n",
              "      <th>stocn_53</th>\n",
              "      <th>stocn_55</th>\n",
              "      <th>stocn_56</th>\n",
              "      <th>stocn_61</th>\n",
              "      <th>stocn_62</th>\n",
              "      <th>stocn_63</th>\n",
              "      <th>stocn_68</th>\n",
              "      <th>stocn_69</th>\n",
              "      <th>stocn_73</th>\n",
              "      <th>stocn_75</th>\n",
              "      <th>stocn_76</th>\n",
              "      <th>stocn_78</th>\n",
              "      <th>stocn_80</th>\n",
              "      <th>stocn_83</th>\n",
              "      <th>stocn_85</th>\n",
              "      <th>stocn_87</th>\n",
              "      <th>stocn_89</th>\n",
              "      <th>stocn_91</th>\n",
              "      <th>stocn_92</th>\n",
              "      <th>stocn_93</th>\n",
              "      <th>stocn_94</th>\n",
              "      <th>stocn_95</th>\n",
              "      <th>stocn_96</th>\n",
              "      <th>stocn_98</th>\n",
              "      <th>stocn_101</th>\n",
              "      <th>stocn_102</th>\n",
              "      <th>stocn_104</th>\n",
              "      <th>stocn_106</th>\n",
              "      <th>stocn_107</th>\n",
              "      <th>stscd_0</th>\n",
              "      <th>stscd_1</th>\n",
              "      <th>stscd_2</th>\n",
              "      <th>stscd_3</th>\n",
              "    </tr>\n",
              "  </thead>\n",
              "  <tbody>\n",
              "    <tr>\n",
              "      <th>12</th>\n",
              "      <td>6883</td>\n",
              "      <td>40691</td>\n",
              "      <td>47685</td>\n",
              "      <td>513.8</td>\n",
              "      <td>0</td>\n",
              "      <td>5</td>\n",
              "      <td>172346.0</td>\n",
              "      <td>10045</td>\n",
              "      <td>0</td>\n",
              "      <td>482472</td>\n",
              "      <td>0</td>\n",
              "      <td>0</td>\n",
              "      <td>0</td>\n",
              "      <td>0</td>\n",
              "      <td>1</td>\n",
              "      <td>0</td>\n",
              "      <td>1</td>\n",
              "      <td>0</td>\n",
              "      <td>0</td>\n",
              "      <td>0</td>\n",
              "      <td>0</td>\n",
              "      <td>0</td>\n",
              "      <td>0</td>\n",
              "      <td>0</td>\n",
              "      <td>0</td>\n",
              "      <td>0</td>\n",
              "      <td>0</td>\n",
              "      <td>0</td>\n",
              "      <td>0</td>\n",
              "      <td>0</td>\n",
              "      <td>0</td>\n",
              "      <td>0</td>\n",
              "      <td>0</td>\n",
              "      <td>0</td>\n",
              "      <td>0</td>\n",
              "      <td>0</td>\n",
              "      <td>0</td>\n",
              "      <td>0</td>\n",
              "      <td>0</td>\n",
              "      <td>0</td>\n",
              "      <td>...</td>\n",
              "      <td>0</td>\n",
              "      <td>0</td>\n",
              "      <td>0</td>\n",
              "      <td>0</td>\n",
              "      <td>0</td>\n",
              "      <td>0</td>\n",
              "      <td>0</td>\n",
              "      <td>0</td>\n",
              "      <td>0</td>\n",
              "      <td>0</td>\n",
              "      <td>0</td>\n",
              "      <td>0</td>\n",
              "      <td>0</td>\n",
              "      <td>0</td>\n",
              "      <td>0</td>\n",
              "      <td>0</td>\n",
              "      <td>0</td>\n",
              "      <td>0</td>\n",
              "      <td>0</td>\n",
              "      <td>0</td>\n",
              "      <td>0</td>\n",
              "      <td>0</td>\n",
              "      <td>0</td>\n",
              "      <td>0</td>\n",
              "      <td>0</td>\n",
              "      <td>0</td>\n",
              "      <td>0</td>\n",
              "      <td>0</td>\n",
              "      <td>0</td>\n",
              "      <td>0</td>\n",
              "      <td>0</td>\n",
              "      <td>0</td>\n",
              "      <td>1</td>\n",
              "      <td>0</td>\n",
              "      <td>0</td>\n",
              "      <td>0</td>\n",
              "      <td>1</td>\n",
              "      <td>0</td>\n",
              "      <td>0</td>\n",
              "      <td>0</td>\n",
              "    </tr>\n",
              "  </tbody>\n",
              "</table>\n",
              "<p>1 rows × 419 columns</p>\n",
              "</div>"
            ],
            "text/plain": [
              "    acqic  bacno   cano  conam  ...  stscd_0  stscd_1  stscd_2  stscd_3\n",
              "12   6883  40691  47685  513.8  ...        1        0        0        0\n",
              "\n",
              "[1 rows x 419 columns]"
            ]
          },
          "metadata": {
            "tags": []
          },
          "execution_count": 97
        }
      ]
    },
    {
      "cell_type": "code",
      "metadata": {
        "id": "sx32D2WtOV9X"
      },
      "source": [
        "#onehotencoder = OneHotEncoder(categorical_features = [0])\n",
        "#data_str_ohe=onehotencoder.fit_transform(data_le).toarray()\n",
        "\n",
        "#from sklearn.preprocessing import OneHotEncoder\n",
        "#tempdata=OneHotEncoder(categorical_features = [1,2,3]).fit(train_data_feature)"
      ],
      "execution_count": null,
      "outputs": []
    },
    {
      "cell_type": "code",
      "metadata": {
        "id": "kb9uHfRFsve_"
      },
      "source": [
        "from sklearn import preprocessing\n",
        "\n",
        "QTrans = preprocessing.QuantileTransformer()\n",
        "train_data_feature_Q = QTrans.fit_transform(train_data_feature)\n"
      ],
      "execution_count": null,
      "outputs": []
    },
    {
      "cell_type": "code",
      "metadata": {
        "id": "udwnW9BQ_8vi"
      },
      "source": [
        "from sklearn.feature_selection import SelectKBest\n",
        "from sklearn.feature_selection import chi2\n",
        "\n",
        "\n",
        "#选择K个最好的特征，返回选择特征后的数据\n",
        "#selection=SelectKBest(chi2, k=300).fit(train_data_feature_Q,train_data_target)\n",
        "#train_data_feature.columns[selection.get_support()]"
      ],
      "execution_count": null,
      "outputs": []
    },
    {
      "cell_type": "code",
      "metadata": {
        "id": "vlAwHAJRWaGZ"
      },
      "source": [
        "train_data_feature_S=SelectKBest(chi2, k=50).fit_transform(train_data_feature,train_data_target)"
      ],
      "execution_count": null,
      "outputs": []
    },
    {
      "cell_type": "code",
      "metadata": {
        "id": "Vdgk_8tLaEsL"
      },
      "source": [
        "from sklearn.decomposition import PCA\n",
        "\n",
        "#主成分分析法，返回降维后的数据(unsupervise)\n",
        "#参数n_components为主成分数目\n",
        "PCAdata=PCA(n_components=20).fit_transform(train_data_feature_S)"
      ],
      "execution_count": null,
      "outputs": []
    },
    {
      "cell_type": "code",
      "metadata": {
        "id": "JxXesrvraVZL",
        "colab": {
          "base_uri": "https://localhost:8080/",
          "height": 35
        },
        "outputId": "2ea32348-58c2-4ad9-bd1f-fbf647069743"
      },
      "source": [
        "len(PCAdata[0])"
      ],
      "execution_count": null,
      "outputs": [
        {
          "output_type": "execute_result",
          "data": {
            "text/plain": [
              "20"
            ]
          },
          "metadata": {
            "tags": []
          },
          "execution_count": 76
        }
      ]
    },
    {
      "cell_type": "code",
      "metadata": {
        "id": "XsqBAfWIKl0s"
      },
      "source": [
        "#null_columns=train_data.columns[train_data.isnull().any()]\n",
        "#train_data[null_columns].isnull().sum()\n",
        "\n",
        "#ull_columns=test_data.columns[test_data.isnull().any()]\n",
        "#test_data[null_columns].isnull().sum()"
      ],
      "execution_count": null,
      "outputs": []
    },
    {
      "cell_type": "code",
      "metadata": {
        "id": "YnTLetXoPnWW"
      },
      "source": [
        "#train_data.corr()"
      ],
      "execution_count": null,
      "outputs": []
    },
    {
      "cell_type": "code",
      "metadata": {
        "id": "5rNy5ZIBVLlL"
      },
      "source": [
        "#plt.figure(figsize=(15,5))\n",
        "#plt.hist(train_data.loc[train_data['fraud_ind'] == 1,'conam'])"
      ],
      "execution_count": null,
      "outputs": []
    },
    {
      "cell_type": "code",
      "metadata": {
        "id": "DXYAPRvEaKoi"
      },
      "source": [
        "#plt.figure(figsize=(15,5))\n",
        "#plt.hist(train_data.loc[train_data['fraud_ind'] == 0,'conam'])"
      ],
      "execution_count": null,
      "outputs": []
    },
    {
      "cell_type": "code",
      "metadata": {
        "id": "fTLevCOwjGvl"
      },
      "source": [
        "#plt.figure(figsize=(15,5))\n",
        "#plt.hist(train_data.loc[train_data['fraud_ind'] == 0,'stocn'])\n",
        "#stocn\tstscd"
      ],
      "execution_count": null,
      "outputs": []
    },
    {
      "cell_type": "code",
      "metadata": {
        "id": "M2CVjj9pjWgI"
      },
      "source": [
        "#plt.figure(figsize=(15,5))\n",
        "#plt.hist(train_data.loc[train_data['fraud_ind'] == 1,'stocn'])\n",
        "#stocn\tstscd"
      ],
      "execution_count": null,
      "outputs": []
    },
    {
      "cell_type": "code",
      "metadata": {
        "id": "EZlPUw8yjdBZ"
      },
      "source": [
        "#plt.figure(figsize=(15,5))\n",
        "#plt.hist(train_data.loc[train_data['fraud_ind'] == 0,'stscd'])"
      ],
      "execution_count": null,
      "outputs": []
    },
    {
      "cell_type": "code",
      "metadata": {
        "id": "XpkBWF1Hjl3j"
      },
      "source": [
        "#plt.figure(figsize=(15,5))\n",
        "#plt.hist(train_data.loc[train_data['fraud_ind'] == 1,'stscd'])"
      ],
      "execution_count": null,
      "outputs": []
    },
    {
      "cell_type": "code",
      "metadata": {
        "id": "zK2wom3au9j6"
      },
      "source": [
        ""
      ],
      "execution_count": null,
      "outputs": []
    },
    {
      "cell_type": "code",
      "metadata": {
        "id": "aJXg-BjJp4Zp"
      },
      "source": [
        "########################## JUST FOR TESTING ,NO PRACTICAL USE ######################################\n",
        "\n",
        "from sklearn.model_selection import train_test_split\n",
        "\n",
        "tempcolumn=train_data_resample[['fraud_ind']].replace([0,1],[1,0]) #pick list[0,1] -> change list[1,0]\n",
        "train_data_target=pd.concat([tempcolumn,train_data_resample[['fraud_ind']]],axis=1)\n",
        "\n",
        "#target=pd.get_dummies(data=target,columns='fraud_ind')\n",
        "                                                    #PCAdata\n",
        "X_train, X_test, y_train, y_test = train_test_split(train_data_feature_S, train_data_target, test_size=0.2, random_state=123)"
      ],
      "execution_count": null,
      "outputs": []
    },
    {
      "cell_type": "markdown",
      "metadata": {
        "id": "FG0ZOA4eAGxc"
      },
      "source": [
        "# TENSORFLOW DNN (suck!)"
      ]
    },
    {
      "cell_type": "code",
      "metadata": {
        "id": "xNCtZe5upCHz",
        "colab": {
          "base_uri": "https://localhost:8080/",
          "height": 64
        },
        "outputId": "e3de19b2-29a7-4a2d-c436-0d8157d6325e"
      },
      "source": [
        "import tensorflow as tf\n",
        "tf.random.set_random_seed(123)\n",
        "# Parameters\n",
        "learning_rate = 0.001\n",
        "training_epochs = 5000\n",
        "batch_size = 100\n",
        "display_step = 500\n",
        "\n",
        "# Network Parameters\n",
        "n_hidden_1 = 90 # 1st layer number of neurons\n",
        "n_hidden_2 = 20 # 2nd layer number of neurons\n",
        "n_input = 50 \n",
        "n_classes = 2 # MNIST total classes (0-9 digits)\n",
        "STDDEV = 0.3\n",
        "#ACTVATION=tf.nn.tanh\n",
        "DROP_OUT=0.1"
      ],
      "execution_count": null,
      "outputs": [
        {
          "output_type": "display_data",
          "data": {
            "text/html": [
              "<p style=\"color: red;\">\n",
              "The default version of TensorFlow in Colab will soon switch to TensorFlow 2.x.<br>\n",
              "We recommend you <a href=\"https://www.tensorflow.org/guide/migrate\" target=\"_blank\">upgrade</a> now \n",
              "or ensure your notebook will continue to use TensorFlow 1.x via the <code>%tensorflow_version 1.x</code> magic:\n",
              "<a href=\"https://colab.research.google.com/notebooks/tensorflow_version.ipynb\" target=\"_blank\">more info</a>.</p>\n"
            ],
            "text/plain": [
              "<IPython.core.display.HTML object>"
            ]
          },
          "metadata": {
            "tags": []
          }
        }
      ]
    },
    {
      "cell_type": "code",
      "metadata": {
        "id": "tpzrusOJpCbZ"
      },
      "source": [
        "# tf Graph input\n",
        "X = tf.placeholder(\"float\", [None, n_input])\n",
        "Y = tf.placeholder(\"float\", [None, n_classes])\n",
        "dropout_rate = tf.placeholder(tf.float32)\n",
        "\n"
      ],
      "execution_count": null,
      "outputs": []
    },
    {
      "cell_type": "code",
      "metadata": {
        "id": "9Jt8StFlpCXe"
      },
      "source": [
        "def multilayer_perceptron(_X, _weights, _biases, dropout_rate):\n",
        "    layer1 = tf.nn.dropout( tf.nn.tanh(tf.add(tf.matmul(_X, _weights['w1']), _biases['b1'])), dropout_rate)\n",
        "    layer2 = tf.nn.dropout( tf.nn.tanh(tf.add(tf.matmul(layer1, _weights['w2']), _biases['b2'])), dropout_rate)\n",
        "    #layer3 = tf.nn.dropout( ACTVATION(tf.add(tf.matmul(layer2, _weights['w3']), _biases['b3'])), dropout_rate)\n",
        "    out = tf.nn.sigmoid(tf.add(tf.matmul(layer2, _weights['wout']), _biases['bout']))\n",
        "    return out\n",
        "\n",
        "weights = {\n",
        "    'w1': tf.Variable(tf.random_normal([n_input, n_hidden_1],stddev=STDDEV)),\n",
        "    'w2': tf.Variable(tf.random_normal([n_hidden_1, n_hidden_2],stddev=STDDEV)),\n",
        "    #'w3': tf.Variable(tf.random_normal([n_hidden_2, n_hidden_3],stddev=STDDEV)),\n",
        "    'wout': tf.Variable(tf.random_normal([n_hidden_2, n_classes],stddev=STDDEV))                                  \n",
        "}\n",
        "\n",
        "biases = {\n",
        "    'b1': tf.Variable(tf.random_normal([n_hidden_1])),\n",
        "    'b2': tf.Variable(tf.random_normal([n_hidden_2])),\n",
        "    #'b3': tf.Variable(tf.random_normal([n_hidden_3])),\n",
        "    'bout': tf.Variable(tf.random_normal([n_classes]))\n",
        "}"
      ],
      "execution_count": null,
      "outputs": []
    },
    {
      "cell_type": "code",
      "metadata": {
        "id": "s7VpRTOBpfjt"
      },
      "source": [
        "# Construct model\n",
        "logits = multilayer_perceptron(X, weights, biases, dropout_rate)\n",
        "\n",
        "#Confusion matrix\n",
        "confmat=tf.confusion_matrix(tf.argmax(logits, 1),tf.argmax(Y, 1),num_classes=2)\n",
        "\n",
        "\n",
        "# Define loss and optimizer\n",
        "loss_op = tf.reduce_mean(tf.nn.softmax_cross_entropy_with_logits_v2(\n",
        "    logits=logits, labels=Y))\n",
        "optimizer = tf.train.AdamOptimizer(learning_rate=learning_rate)\n",
        "train_op = optimizer.minimize(loss_op)\n",
        "# Initializing the variables\n",
        "init = tf.global_variables_initializer()"
      ],
      "execution_count": null,
      "outputs": []
    },
    {
      "cell_type": "code",
      "metadata": {
        "id": "O67gu7zF7oS5"
      },
      "source": [
        ""
      ],
      "execution_count": null,
      "outputs": []
    },
    {
      "cell_type": "code",
      "metadata": {
        "id": "Atc58Oz38aAW",
        "colab": {
          "base_uri": "https://localhost:8080/",
          "height": 35
        },
        "outputId": "2d84ec2d-3ef0-4cdc-a849-fe67659e9589"
      },
      "source": [
        "print(X_train.shape,X_test.shape,y_train.shape,y_test.shape)"
      ],
      "execution_count": null,
      "outputs": [
        {
          "output_type": "stream",
          "text": [
            "(36639, 50) (4071, 50) (36639, 2) (4071, 2)\n"
          ],
          "name": "stdout"
        }
      ]
    },
    {
      "cell_type": "code",
      "metadata": {
        "id": "76LVIMXHmqVM"
      },
      "source": [
        "from sklearn.model_selection import KFold\n",
        "kf = KFold(n_splits=10)"
      ],
      "execution_count": null,
      "outputs": []
    },
    {
      "cell_type": "code",
      "metadata": {
        "id": "u7ywfaNcpfgw",
        "colab": {
          "base_uri": "https://localhost:8080/",
          "height": 1000
        },
        "outputId": "ac7ae406-54a3-4b90-f0aa-12ed9f8d7927"
      },
      "source": [
        "with tf.Session() as sess:\n",
        "  sess.run(init)\n",
        "  for train_index, test_index in kf.split(train_data_feature_S):\n",
        "    X_train, X_test = train_data_feature_S[train_index], train_data_feature_S[test_index]\n",
        "    y_train, y_test = train_data_target.iloc[train_index], train_data_target.iloc[test_index]\n",
        "\n",
        "    # Training cycle\n",
        "    for epoch in range(training_epochs):\n",
        "        TrainTP,TrainFP,TrainFN,TestTP,TestFP,TestFN=0,0,0,0,0,0\n",
        "        \n",
        "        # Loop over all batches\n",
        "        \n",
        "            \n",
        "          # Run optimization op (backprop) and cost op (to get loss value)\n",
        "        _= sess.run([train_op], feed_dict={X: X_train,Y: y_train,dropout_rate:DROP_OUT})\n",
        "\n",
        "        # Display logs per epoch step\n",
        "        if (epoch+1) % (display_step) == 0:\n",
        "            confTe,lossTe = sess.run([confmat,loss_op], feed_dict={X: X_test,Y: y_test,dropout_rate: DROP_OUT})\n",
        "            #TrainTP,TrainFP,TrainFN=confTr[1,1],confTr[0,1],confTr[1,0]\n",
        "            TestTP,TestFP,TestFN=confTe[1,1],confTe[0,1],confTe[1,0]\n",
        "            #FscoreTrain = 2*TrainTP/(2*TrainTP+TrainFP+TrainFN or not 0) #'or not' Avoid ZeroDivisionError\n",
        "            FscoreTest = 2*TestTP/(2*TestTP+TestFP+TestFN or not 0)\n",
        "            print(\"Epoch:\", '%04d' % (epoch+1),\"loss Test=\",'%.4f' %lossTe, \"FscoreTest=\",'%.4f' %(FscoreTest))\n",
        "            #print(TrainTP,' ',TrainFP,' ',TrainFN,' ',confTr[0,0])\n",
        "\n",
        "    # Test model\n",
        "    #pred = tf.nn.softmax(logits)  # Apply softmax to logits\n",
        "    #correct_prediction = tf.equal(tf.argmax(pred, 1), tf.argmax(Y, 1))\n",
        "    # Calculate accuracy\n",
        "    #accuracy = tf.reduce_mean(tf.cast(correct_prediction, \"float\"))\n",
        "    \n",
        "    #print(\"Accuracy:\",  '%.4f' % (accuracy.eval({X: X_test, Y: y_test})))\n",
        "  print('-----------------------------------------------')  \n",
        "sess.close()"
      ],
      "execution_count": null,
      "outputs": [
        {
          "output_type": "stream",
          "text": [
            "Epoch: 0500 loss Test= 0.6938 FscoreTest= 0.6304\n",
            "Epoch: 1000 loss Test= 0.6924 FscoreTest= 0.5836\n",
            "Epoch: 1500 loss Test= 0.6923 FscoreTest= 0.5753\n",
            "Epoch: 2000 loss Test= 0.6869 FscoreTest= 0.5675\n",
            "Epoch: 2500 loss Test= 0.6853 FscoreTest= 0.5724\n",
            "Epoch: 3000 loss Test= 0.6788 FscoreTest= 0.6260\n",
            "Epoch: 3500 loss Test= 0.6760 FscoreTest= 0.6308\n",
            "Epoch: 4000 loss Test= 0.6734 FscoreTest= 0.6500\n",
            "Epoch: 4500 loss Test= 0.6735 FscoreTest= 0.6582\n",
            "Epoch: 5000 loss Test= 0.6717 FscoreTest= 0.6611\n",
            "Epoch: 0500 loss Test= 0.6706 FscoreTest= 0.6565\n",
            "Epoch: 1000 loss Test= 0.6721 FscoreTest= 0.6568\n",
            "Epoch: 1500 loss Test= 0.6708 FscoreTest= 0.6551\n",
            "Epoch: 2000 loss Test= 0.6728 FscoreTest= 0.6547\n",
            "Epoch: 2500 loss Test= 0.6714 FscoreTest= 0.6587\n",
            "Epoch: 3000 loss Test= 0.6734 FscoreTest= 0.6532\n",
            "Epoch: 3500 loss Test= 0.6725 FscoreTest= 0.6596\n",
            "Epoch: 4000 loss Test= 0.6725 FscoreTest= 0.6602\n",
            "Epoch: 4500 loss Test= 0.6730 FscoreTest= 0.6584\n",
            "Epoch: 5000 loss Test= 0.6702 FscoreTest= 0.6622\n",
            "Epoch: 0500 loss Test= 0.6712 FscoreTest= 0.6707\n",
            "Epoch: 1000 loss Test= 0.6702 FscoreTest= 0.6682\n",
            "Epoch: 1500 loss Test= 0.6731 FscoreTest= 0.6635\n",
            "Epoch: 2000 loss Test= 0.6677 FscoreTest= 0.6646\n",
            "Epoch: 2500 loss Test= 0.6705 FscoreTest= 0.6716\n",
            "Epoch: 3000 loss Test= 0.6691 FscoreTest= 0.6801\n",
            "Epoch: 3500 loss Test= 0.6708 FscoreTest= 0.6721\n",
            "Epoch: 4000 loss Test= 0.6698 FscoreTest= 0.6733\n",
            "Epoch: 4500 loss Test= 0.6720 FscoreTest= 0.6652\n",
            "Epoch: 5000 loss Test= 0.6710 FscoreTest= 0.6691\n",
            "Epoch: 0500 loss Test= 0.6739 FscoreTest= 0.6477\n",
            "Epoch: 1000 loss Test= 0.6748 FscoreTest= 0.6418\n",
            "Epoch: 1500 loss Test= 0.6715 FscoreTest= 0.6428\n",
            "Epoch: 2000 loss Test= 0.6754 FscoreTest= 0.6403\n",
            "Epoch: 2500 loss Test= 0.6752 FscoreTest= 0.6402\n",
            "Epoch: 3000 loss Test= 0.6740 FscoreTest= 0.6505\n",
            "Epoch: 3500 loss Test= 0.6708 FscoreTest= 0.6411\n",
            "Epoch: 4000 loss Test= 0.6720 FscoreTest= 0.6410\n",
            "Epoch: 4500 loss Test= 0.6717 FscoreTest= 0.6471\n",
            "Epoch: 5000 loss Test= 0.6697 FscoreTest= 0.6510\n",
            "Epoch: 0500 loss Test= 0.6708 FscoreTest= 0.6603\n",
            "Epoch: 1000 loss Test= 0.6710 FscoreTest= 0.6588\n",
            "Epoch: 1500 loss Test= 0.6715 FscoreTest= 0.6621\n",
            "Epoch: 2000 loss Test= 0.6715 FscoreTest= 0.6593\n",
            "Epoch: 2500 loss Test= 0.6717 FscoreTest= 0.6682\n",
            "Epoch: 3000 loss Test= 0.6705 FscoreTest= 0.6540\n",
            "Epoch: 3500 loss Test= 0.6710 FscoreTest= 0.6575\n",
            "Epoch: 4000 loss Test= 0.6697 FscoreTest= 0.6618\n",
            "Epoch: 4500 loss Test= 0.6718 FscoreTest= 0.6592\n",
            "Epoch: 5000 loss Test= 0.6714 FscoreTest= 0.6585\n",
            "Epoch: 0500 loss Test= 0.6689 FscoreTest= 0.6570\n",
            "Epoch: 1000 loss Test= 0.6684 FscoreTest= 0.6597\n",
            "Epoch: 1500 loss Test= 0.6716 FscoreTest= 0.6562\n",
            "Epoch: 2000 loss Test= 0.6691 FscoreTest= 0.6511\n",
            "Epoch: 2500 loss Test= 0.6700 FscoreTest= 0.6493\n",
            "Epoch: 3000 loss Test= 0.6688 FscoreTest= 0.6537\n",
            "Epoch: 3500 loss Test= 0.6703 FscoreTest= 0.6575\n",
            "Epoch: 4000 loss Test= 0.6688 FscoreTest= 0.6602\n",
            "Epoch: 4500 loss Test= 0.6697 FscoreTest= 0.6561\n",
            "Epoch: 5000 loss Test= 0.6702 FscoreTest= 0.6601\n",
            "Epoch: 0500 loss Test= 0.6704 FscoreTest= 0.6529\n",
            "Epoch: 1000 loss Test= 0.6697 FscoreTest= 0.6528\n",
            "Epoch: 1500 loss Test= 0.6691 FscoreTest= 0.6590\n",
            "Epoch: 2000 loss Test= 0.6712 FscoreTest= 0.6626\n",
            "Epoch: 2500 loss Test= 0.6702 FscoreTest= 0.6534\n",
            "Epoch: 3000 loss Test= 0.6718 FscoreTest= 0.6442\n",
            "Epoch: 3500 loss Test= 0.6735 FscoreTest= 0.6490\n",
            "Epoch: 4000 loss Test= 0.6709 FscoreTest= 0.6514\n",
            "Epoch: 4500 loss Test= 0.6713 FscoreTest= 0.6482\n",
            "Epoch: 5000 loss Test= 0.6717 FscoreTest= 0.6518\n",
            "Epoch: 0500 loss Test= 0.6697 FscoreTest= 0.6682\n",
            "Epoch: 1000 loss Test= 0.6693 FscoreTest= 0.6735\n",
            "Epoch: 1500 loss Test= 0.6691 FscoreTest= 0.6730\n",
            "Epoch: 2000 loss Test= 0.6679 FscoreTest= 0.6693\n",
            "Epoch: 2500 loss Test= 0.6692 FscoreTest= 0.6697\n",
            "Epoch: 3000 loss Test= 0.6708 FscoreTest= 0.6650\n",
            "Epoch: 3500 loss Test= 0.6712 FscoreTest= 0.6626\n",
            "Epoch: 4000 loss Test= 0.6732 FscoreTest= 0.6561\n",
            "Epoch: 4500 loss Test= 0.6730 FscoreTest= 0.6707\n",
            "Epoch: 5000 loss Test= 0.6703 FscoreTest= 0.6737\n",
            "Epoch: 0500 loss Test= 0.6721 FscoreTest= 0.6611\n",
            "Epoch: 1000 loss Test= 0.6714 FscoreTest= 0.6618\n",
            "Epoch: 1500 loss Test= 0.6737 FscoreTest= 0.6528\n",
            "Epoch: 2000 loss Test= 0.6719 FscoreTest= 0.6534\n",
            "Epoch: 2500 loss Test= 0.6746 FscoreTest= 0.6470\n"
          ],
          "name": "stdout"
        },
        {
          "output_type": "error",
          "ename": "KeyboardInterrupt",
          "evalue": "ignored",
          "traceback": [
            "\u001b[0;31m---------------------------------------------------------------------------\u001b[0m",
            "\u001b[0;31mKeyboardInterrupt\u001b[0m                         Traceback (most recent call last)",
            "\u001b[0;32m<ipython-input-154-e847520a2c6e>\u001b[0m in \u001b[0;36m<module>\u001b[0;34m()\u001b[0m\n\u001b[1;32m     13\u001b[0m \u001b[0;34m\u001b[0m\u001b[0m\n\u001b[1;32m     14\u001b[0m           \u001b[0;31m# Run optimization op (backprop) and cost op (to get loss value)\u001b[0m\u001b[0;34m\u001b[0m\u001b[0;34m\u001b[0m\u001b[0;34m\u001b[0m\u001b[0m\n\u001b[0;32m---> 15\u001b[0;31m         \u001b[0m_\u001b[0m\u001b[0;34m=\u001b[0m \u001b[0msess\u001b[0m\u001b[0;34m.\u001b[0m\u001b[0mrun\u001b[0m\u001b[0;34m(\u001b[0m\u001b[0;34m[\u001b[0m\u001b[0mtrain_op\u001b[0m\u001b[0;34m]\u001b[0m\u001b[0;34m,\u001b[0m \u001b[0mfeed_dict\u001b[0m\u001b[0;34m=\u001b[0m\u001b[0;34m{\u001b[0m\u001b[0mX\u001b[0m\u001b[0;34m:\u001b[0m \u001b[0mX_train\u001b[0m\u001b[0;34m,\u001b[0m\u001b[0mY\u001b[0m\u001b[0;34m:\u001b[0m \u001b[0my_train\u001b[0m\u001b[0;34m,\u001b[0m\u001b[0mdropout_rate\u001b[0m\u001b[0;34m:\u001b[0m\u001b[0mDROP_OUT\u001b[0m\u001b[0;34m}\u001b[0m\u001b[0;34m)\u001b[0m\u001b[0;34m\u001b[0m\u001b[0;34m\u001b[0m\u001b[0m\n\u001b[0m\u001b[1;32m     16\u001b[0m \u001b[0;34m\u001b[0m\u001b[0m\n\u001b[1;32m     17\u001b[0m         \u001b[0;31m# Display logs per epoch step\u001b[0m\u001b[0;34m\u001b[0m\u001b[0;34m\u001b[0m\u001b[0;34m\u001b[0m\u001b[0m\n",
            "\u001b[0;32m/usr/local/lib/python3.6/dist-packages/tensorflow_core/python/client/session.py\u001b[0m in \u001b[0;36mrun\u001b[0;34m(self, fetches, feed_dict, options, run_metadata)\u001b[0m\n\u001b[1;32m    954\u001b[0m     \u001b[0;32mtry\u001b[0m\u001b[0;34m:\u001b[0m\u001b[0;34m\u001b[0m\u001b[0;34m\u001b[0m\u001b[0m\n\u001b[1;32m    955\u001b[0m       result = self._run(None, fetches, feed_dict, options_ptr,\n\u001b[0;32m--> 956\u001b[0;31m                          run_metadata_ptr)\n\u001b[0m\u001b[1;32m    957\u001b[0m       \u001b[0;32mif\u001b[0m \u001b[0mrun_metadata\u001b[0m\u001b[0;34m:\u001b[0m\u001b[0;34m\u001b[0m\u001b[0;34m\u001b[0m\u001b[0m\n\u001b[1;32m    958\u001b[0m         \u001b[0mproto_data\u001b[0m \u001b[0;34m=\u001b[0m \u001b[0mtf_session\u001b[0m\u001b[0;34m.\u001b[0m\u001b[0mTF_GetBuffer\u001b[0m\u001b[0;34m(\u001b[0m\u001b[0mrun_metadata_ptr\u001b[0m\u001b[0;34m)\u001b[0m\u001b[0;34m\u001b[0m\u001b[0;34m\u001b[0m\u001b[0m\n",
            "\u001b[0;32m/usr/local/lib/python3.6/dist-packages/tensorflow_core/python/client/session.py\u001b[0m in \u001b[0;36m_run\u001b[0;34m(self, handle, fetches, feed_dict, options, run_metadata)\u001b[0m\n\u001b[1;32m   1115\u001b[0m       \u001b[0mfeed_dict\u001b[0m \u001b[0;34m=\u001b[0m \u001b[0mnest\u001b[0m\u001b[0;34m.\u001b[0m\u001b[0mflatten_dict_items\u001b[0m\u001b[0;34m(\u001b[0m\u001b[0mfeed_dict\u001b[0m\u001b[0;34m)\u001b[0m\u001b[0;34m\u001b[0m\u001b[0;34m\u001b[0m\u001b[0m\n\u001b[1;32m   1116\u001b[0m       \u001b[0;32mfor\u001b[0m \u001b[0mfeed\u001b[0m\u001b[0;34m,\u001b[0m \u001b[0mfeed_val\u001b[0m \u001b[0;32min\u001b[0m \u001b[0mfeed_dict\u001b[0m\u001b[0;34m.\u001b[0m\u001b[0mitems\u001b[0m\u001b[0;34m(\u001b[0m\u001b[0;34m)\u001b[0m\u001b[0;34m:\u001b[0m\u001b[0;34m\u001b[0m\u001b[0;34m\u001b[0m\u001b[0m\n\u001b[0;32m-> 1117\u001b[0;31m         \u001b[0;32mfor\u001b[0m \u001b[0msubfeed\u001b[0m\u001b[0;34m,\u001b[0m \u001b[0msubfeed_val\u001b[0m \u001b[0;32min\u001b[0m \u001b[0m_feed_fn\u001b[0m\u001b[0;34m(\u001b[0m\u001b[0mfeed\u001b[0m\u001b[0;34m,\u001b[0m \u001b[0mfeed_val\u001b[0m\u001b[0;34m)\u001b[0m\u001b[0;34m:\u001b[0m\u001b[0;34m\u001b[0m\u001b[0;34m\u001b[0m\u001b[0m\n\u001b[0m\u001b[1;32m   1118\u001b[0m           \u001b[0;32mtry\u001b[0m\u001b[0;34m:\u001b[0m\u001b[0;34m\u001b[0m\u001b[0;34m\u001b[0m\u001b[0m\n\u001b[1;32m   1119\u001b[0m             subfeed_t = self.graph.as_graph_element(\n",
            "\u001b[0;32m/usr/local/lib/python3.6/dist-packages/tensorflow_core/python/client/session.py\u001b[0m in \u001b[0;36m_feed_fn\u001b[0;34m(feed, feed_val)\u001b[0m\n\u001b[1;32m   1094\u001b[0m     \u001b[0;32mdef\u001b[0m \u001b[0m_feed_fn\u001b[0m\u001b[0;34m(\u001b[0m\u001b[0mfeed\u001b[0m\u001b[0;34m,\u001b[0m \u001b[0mfeed_val\u001b[0m\u001b[0;34m)\u001b[0m\u001b[0;34m:\u001b[0m\u001b[0;34m\u001b[0m\u001b[0;34m\u001b[0m\u001b[0m\n\u001b[1;32m   1095\u001b[0m       \u001b[0;32mfor\u001b[0m \u001b[0mtensor_type\u001b[0m\u001b[0;34m,\u001b[0m \u001b[0m_\u001b[0m\u001b[0;34m,\u001b[0m \u001b[0mfeed_fn\u001b[0m\u001b[0;34m,\u001b[0m \u001b[0m_\u001b[0m \u001b[0;32min\u001b[0m \u001b[0m_REGISTERED_EXPANSIONS\u001b[0m\u001b[0;34m:\u001b[0m\u001b[0;34m\u001b[0m\u001b[0;34m\u001b[0m\u001b[0m\n\u001b[0;32m-> 1096\u001b[0;31m         \u001b[0;32mif\u001b[0m \u001b[0misinstance\u001b[0m\u001b[0;34m(\u001b[0m\u001b[0mfeed\u001b[0m\u001b[0;34m,\u001b[0m \u001b[0mtensor_type\u001b[0m\u001b[0;34m)\u001b[0m\u001b[0;34m:\u001b[0m\u001b[0;34m\u001b[0m\u001b[0;34m\u001b[0m\u001b[0m\n\u001b[0m\u001b[1;32m   1097\u001b[0m           \u001b[0;32mreturn\u001b[0m \u001b[0mfeed_fn\u001b[0m\u001b[0;34m(\u001b[0m\u001b[0mfeed\u001b[0m\u001b[0;34m,\u001b[0m \u001b[0mfeed_val\u001b[0m\u001b[0;34m)\u001b[0m\u001b[0;34m\u001b[0m\u001b[0;34m\u001b[0m\u001b[0m\n\u001b[1;32m   1098\u001b[0m       raise TypeError('Feed argument %r has invalid type %r' %\n",
            "\u001b[0;32m/usr/lib/python3.6/abc.py\u001b[0m in \u001b[0;36m__instancecheck__\u001b[0;34m(cls, instance)\u001b[0m\n\u001b[1;32m    184\u001b[0m         \u001b[0;32mif\u001b[0m \u001b[0msubclass\u001b[0m \u001b[0;32min\u001b[0m \u001b[0mcls\u001b[0m\u001b[0;34m.\u001b[0m\u001b[0m_abc_cache\u001b[0m\u001b[0;34m:\u001b[0m\u001b[0;34m\u001b[0m\u001b[0;34m\u001b[0m\u001b[0m\n\u001b[1;32m    185\u001b[0m             \u001b[0;32mreturn\u001b[0m \u001b[0;32mTrue\u001b[0m\u001b[0;34m\u001b[0m\u001b[0;34m\u001b[0m\u001b[0m\n\u001b[0;32m--> 186\u001b[0;31m         \u001b[0msubtype\u001b[0m \u001b[0;34m=\u001b[0m \u001b[0mtype\u001b[0m\u001b[0;34m(\u001b[0m\u001b[0minstance\u001b[0m\u001b[0;34m)\u001b[0m\u001b[0;34m\u001b[0m\u001b[0;34m\u001b[0m\u001b[0m\n\u001b[0m\u001b[1;32m    187\u001b[0m         \u001b[0;32mif\u001b[0m \u001b[0msubtype\u001b[0m \u001b[0;32mis\u001b[0m \u001b[0msubclass\u001b[0m\u001b[0;34m:\u001b[0m\u001b[0;34m\u001b[0m\u001b[0;34m\u001b[0m\u001b[0m\n\u001b[1;32m    188\u001b[0m             if (cls._abc_negative_cache_version ==\n",
            "\u001b[0;31mKeyboardInterrupt\u001b[0m: "
          ]
        }
      ]
    },
    {
      "cell_type": "code",
      "metadata": {
        "id": "oQY5G7t8254Y"
      },
      "source": [
        "!nvidia-smi"
      ],
      "execution_count": null,
      "outputs": []
    },
    {
      "cell_type": "code",
      "metadata": {
        "id": "lg5Xk9g2pCVI"
      },
      "source": [
        ""
      ],
      "execution_count": null,
      "outputs": []
    },
    {
      "cell_type": "code",
      "metadata": {
        "id": "8RjfxkQ5pCSc"
      },
      "source": [
        "#the following code is shit!!!!!"
      ],
      "execution_count": null,
      "outputs": []
    },
    {
      "cell_type": "code",
      "metadata": {
        "id": "RAHCSTyQ-2xD"
      },
      "source": [
        "import tensorflow as tf\n",
        "tf.random.set_random_seed(123)"
      ],
      "execution_count": null,
      "outputs": []
    },
    {
      "cell_type": "code",
      "metadata": {
        "id": "PhW6wBKAwvKr"
      },
      "source": [
        "fc = tf.feature_column\n",
        "CATEGORICAL_COLUMNS = ['stocn','stscd']\n",
        "NUMERIC_COLUMNS = ['conam']\n",
        "\n",
        "def one_hot_cat_column(feature_name, vocab):\n",
        "  return tf.feature_column.indicator_column(\n",
        "      tf.feature_column.categorical_column_with_vocabulary_list(feature_name,\n",
        "                                                 vocab))\n",
        "feature_columns = []\n",
        "for feature_name in CATEGORICAL_COLUMNS:\n",
        "  # Need to one-hot encode categorical features.\n",
        "  vocabulary = train_data[feature_name].unique()\n",
        "  feature_columns.append(one_hot_cat_column(feature_name, vocabulary))\n",
        "\n",
        "for feature_name in NUMERIC_COLUMNS:\n",
        "  feature_columns.append(tf.feature_column.numeric_column(feature_name,\n",
        "                                           dtype=tf.float32))"
      ],
      "execution_count": null,
      "outputs": []
    },
    {
      "cell_type": "code",
      "metadata": {
        "id": "KjJfN_TPFbdk"
      },
      "source": [
        "from sklearn.model_selection import KFold\n",
        "kf = KFold(n_splits=10)\n",
        "X=train_data[['conam','stocn','stscd']]\n",
        "y=train_data[['fraud_ind']]\n",
        "\n"
      ],
      "execution_count": null,
      "outputs": []
    },
    {
      "cell_type": "code",
      "metadata": {
        "id": "NrD36czMGXCC"
      },
      "source": [
        "for train_index, test_index in kf.split(X):\n",
        "  X_train, X_test = X.loc[train_index], X.loc[test_index]\n",
        "  y_train, y_test = y.loc[train_index], y.loc[test_index]"
      ],
      "execution_count": null,
      "outputs": []
    },
    {
      "cell_type": "code",
      "metadata": {
        "id": "dZiDSMqcwUEV"
      },
      "source": [
        "\n",
        "classifier = tf.estimator.DNNClassifier(\n",
        "    feature_columns=feature_columns,\n",
        "    hidden_units=[10, 10],\n",
        "    n_classes=2,\n",
        "    optimizer=tf.train.AdamOptimizer(learning_rate=0.01)\n",
        ")\n",
        "\n",
        "classifier.train(\n",
        "     input_fn=(X),hool=None,1,1\n",
        ")\n",
        "\n",
        "eval_result = classifier.evaluate(\n",
        "    input_fn=(X_test, y_test)\n",
        ")\n"
      ],
      "execution_count": null,
      "outputs": []
    },
    {
      "cell_type": "code",
      "metadata": {
        "id": "0lOZ6xV2q32J"
      },
      "source": [
        ""
      ],
      "execution_count": null,
      "outputs": []
    },
    {
      "cell_type": "markdown",
      "metadata": {
        "id": "nuXKvi4t-_2q"
      },
      "source": [
        "# XGBOOST (very slow)"
      ]
    },
    {
      "cell_type": "code",
      "metadata": {
        "id": "8VxoblT0iRtg"
      },
      "source": [
        "X=PCAdata\n",
        "y=train_data_target.to_numpy().ravel()\n",
        "\n"
      ],
      "execution_count": null,
      "outputs": []
    },
    {
      "cell_type": "code",
      "metadata": {
        "id": "Wx2VqBAdjdJX"
      },
      "source": [
        "from sklearn.model_selection import KFold\n",
        "from xgboost.sklearn import XGBClassifier\n",
        "from sklearn.metrics import f1_score\n",
        "kf = KFold(n_splits=10)\n",
        "classifier = XGBClassifier()"
      ],
      "execution_count": null,
      "outputs": []
    },
    {
      "cell_type": "code",
      "metadata": {
        "id": "Aq3k4C1yknVb",
        "colab": {
          "base_uri": "https://localhost:8080/",
          "height": 364
        },
        "outputId": "038e7275-6142-41d1-cb29-79e342b482a5"
      },
      "source": [
        "for train_index, test_index in kf.split(X):\n",
        "  X_train, X_test = X[train_index], X[test_index]\n",
        "  y_train, y_test = y[train_index], y[test_index]\n",
        "  \n",
        "  classifier.fit(X_train, y_train)\n",
        "  y_pred = classifier.predict(X_test)\n",
        "  print(f1_score(y_test, y_pred))\n",
        "  print('-------------------------------------------')"
      ],
      "execution_count": null,
      "outputs": [
        {
          "output_type": "stream",
          "text": [
            "0.4998757763975155\n",
            "-------------------------------------------\n",
            "0.48763070645243567\n",
            "-------------------------------------------\n",
            "0.48553770086526576\n",
            "-------------------------------------------\n",
            "0.4859437751004016\n",
            "-------------------------------------------\n",
            "0.473510773130545\n",
            "-------------------------------------------\n",
            "0.4683252115927161\n",
            "-------------------------------------------\n",
            "0.48612538540596095\n",
            "-------------------------------------------\n",
            "0.48734339043722835\n",
            "-------------------------------------------\n",
            "0.48992089818831336\n",
            "-------------------------------------------\n",
            "0.47230169050715215\n",
            "-------------------------------------------\n"
          ],
          "name": "stdout"
        }
      ]
    },
    {
      "cell_type": "code",
      "metadata": {
        "id": "NeVOFHQDoiaj",
        "colab": {
          "base_uri": "https://localhost:8080/",
          "height": 35
        },
        "outputId": "d828307b-5af3-4742-ec16-db0ccb1da581"
      },
      "source": [
        "print('i am a miserable piese of shit...')"
      ],
      "execution_count": null,
      "outputs": [
        {
          "output_type": "stream",
          "text": [
            "i am a miserable piese of shit...\n"
          ],
          "name": "stdout"
        }
      ]
    },
    {
      "cell_type": "code",
      "metadata": {
        "id": "v_Y6sabMrN4A",
        "colab": {
          "base_uri": "https://localhost:8080/",
          "height": 35
        },
        "outputId": "072f3e45-36ea-480f-9055-786bee0933ca"
      },
      "source": [
        "%reset"
      ],
      "execution_count": null,
      "outputs": [
        {
          "output_type": "stream",
          "text": [
            "Once deleted, variables cannot be recovered. Proceed (y/[n])? y\n"
          ],
          "name": "stdout"
        }
      ]
    },
    {
      "cell_type": "code",
      "metadata": {
        "id": "b5ThQ-YqW1Co"
      },
      "source": [
        ""
      ],
      "execution_count": null,
      "outputs": []
    }
  ]
}